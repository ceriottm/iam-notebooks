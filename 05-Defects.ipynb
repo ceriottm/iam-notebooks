{
 "cells": [
  {
   "cell_type": "code",
   "execution_count": null,
   "metadata": {},
   "outputs": [],
   "source": [
    "%load_ext autoreload\n",
    "%autoreload 2"
   ]
  },
  {
   "cell_type": "code",
   "execution_count": null,
   "metadata": {},
   "outputs": [],
   "source": [
    "import matplotlib.pyplot as plt\n",
    "%matplotlib widget\n",
    "import numpy as np\n",
    "import scipy as sp\n",
    "import matplotlib as mpl\n",
    "import matplotlib.pyplot as plt\n",
    "import chemiscope\n",
    "from widget_code_input import WidgetCodeInput\n",
    "from ipywidgets import Textarea\n",
    "from iam_utils import *\n",
    "import ase\n",
    "from ase.io import read, write\n",
    "from ase.calculators import lj, eam\n",
    "from ase.optimize import BFGS, LBFGS\n",
    "import copy"
   ]
  },
  {
   "cell_type": "code",
   "execution_count": null,
   "metadata": {
    "code_folding": []
   },
   "outputs": [],
   "source": [
    "#### AVOID folding of output cell "
   ]
  },
  {
   "cell_type": "code",
   "execution_count": null,
   "metadata": {},
   "outputs": [],
   "source": [
    "%%html\n",
    "\n",
    "<style>\n",
    ".output_wrapper, .output {\n",
    "    height:auto !important;\n",
    "    max-height:4000px;  /* your desired max-height here */\n",
    "}\n",
    ".output_scroll {\n",
    "    box-shadow:none !important;\n",
    "    webkit-box-shadow:none !important;\n",
    "}\n",
    "</style>"
   ]
  },
  {
   "cell_type": "code",
   "execution_count": null,
   "metadata": {},
   "outputs": [],
   "source": [
    "data_dump = WidgetDataDumper(prefix=\"module_05\")\n",
    "display(data_dump)"
   ]
  },
  {
   "cell_type": "code",
   "execution_count": null,
   "metadata": {},
   "outputs": [],
   "source": [
    "module_summary = Textarea(\"general comments on this module\", layout=Layout(width=\"100%\"))\n",
    "data_dump.register_field(\"module-summary\", module_summary, \"value\")\n",
    "display(module_summary)"
   ]
  },
  {
   "cell_type": "markdown",
   "metadata": {},
   "source": [
    "_Reference textbook / figure credits: \n",
    "Charles Kittel, \"Introduction to solid-state physics\", Chapters 20-21; \n",
    "[Helmut Föll, Defects in Crystals](https://www.tf.uni-kiel.de/matwis/amat/def_en/index.html) \n",
    "Wikipedia_"
   ]
  },
  {
   "cell_type": "markdown",
   "metadata": {},
   "source": [
    "# Point defects"
   ]
  },
  {
   "cell_type": "markdown",
   "metadata": {},
   "source": [
    "Point defects are the simplest kind of imperfections that can be found in the structure of a crystalline material. _Vacancies_ are empty lattice sites, _interstitials_ are additional atoms that fill a void in the structure.  Impurities can also occur in the form of _substitutional_ atoms, that replace some of the atoms of the main lattice. Defects can have a large impact on the electronic properties of a material, drive transport of ions, and are often related to solid-state transformations. \n",
    "\n",
    "Particulary for ionic crystals, where defects must preserve  overall charge neutrality, defects must come in pairs: _Frenkel defects_ are a vacancy-interstitial pair (conceptually corresponding to an atom moved from a lattice to an interstitial site), _Schottky defects_ are paris of vacancies formed by atoms with opposite charge. \n",
    "\n",
    "<img src=\"figures/defecttypes.png\" width=\"600\"/>"
   ]
  },
  {
   "cell_type": "markdown",
   "metadata": {},
   "source": [
    "In the vast majority of cases the presence of a defect results in the *increase* of the energy of the crystal by an amount $\\Delta E$. Then why are there defects in solids? The answer involves a combination of thermodynamics and kinetics. You may recall that the stability of a system at constant temperature $T$ and pressure is determined by its *Gibbs free energy* $G=H-TS$, where $H$ is the enthalpy (which matches to a very good approximation the internal energy for a solid at ambient pressure) minus a term that involves the *entropy* of the system. \n",
    "\n",
    "A full discussion of the microscopic definition of entropy is beyond the scope of this module, but we will just say that one can define it as $S=k_B \\ln \\Omega$, where $k_B=1.38\\cdot 10^{-23}$ J/K, and $\\Omega$ is the number of microscopic configurations that are consistent with the macroscopic observables and boundary conditions. For a lattice with $N$ sites and $M$ vacancies, one can estimate $\\Omega$ by combinatorial arguments\n",
    "\n",
    "$$\n",
    "\\ln \\Omega = \\ln \\frac{N!}{M!(N-M)!} \\approx N \\ln N - M\\ln M -(N-M)\\ln (N-M)\n",
    "$$\n",
    "\n",
    "where we also used Stirling approximation $\\ln N! \\approx N \\ln N$. \n",
    "\n",
    "By ignoring constant terms that depend only on $N$, and rewriting in terms of the vacancy concentration $x=M/N$, one can find $N^{-1}\\ln\\Omega \\approx -x\\ln x -(1-x)\\ln(1-x)$. Thus, the molar free energy $G/N$ of a solid with a concentration of vacancies $x$ can be written as \n",
    "\n",
    "$$\n",
    "g(x) =  x \\Delta E  + k_B T\\left[ x\\ln x + (1-x)\\ln(1-x)\\right]\n",
    "$$"
   ]
  },
  {
   "cell_type": "markdown",
   "metadata": {},
   "source": [
    "<span style=\"color:blue\">**01a** The equilibrium concentration of vacancies can be obtained differentiating the expression and solving for $x$. Write the analytical expression (you do not need to write down the steps, for this question the expression is enough). What is the highest _equilibrium_ molar vacancy concentration that is theoretically possible?</span>"
   ]
  },
  {
   "cell_type": "code",
   "execution_count": null,
   "metadata": {},
   "outputs": [],
   "source": [
    "ex1a_txt = Textarea(\"Write the answer here.\", layout=Layout(width=\"100%\"))\n",
    "data_dump.register_field(\"ex1a-answer\", ex1a_txt, \"value\")\n",
    "display(ex1a_txt)"
   ]
  },
  {
   "cell_type": "code",
   "execution_count": null,
   "metadata": {},
   "outputs": [],
   "source": [
    "# Boltzman constant in eV/K\n",
    "kB = 8.617333262145e-5\n",
    "\n",
    "def plot_molar_free_energy(axes, deltaE, T):\n",
    "    # x = M/N\n",
    "    x = np.linspace(0.001, 0.999, 100)\n",
    "    \n",
    "    molar_free_energy_fun = lambda x: x*deltaE+kB*T*(x*np.log(x)+(1-x)*np.log(1-x))\n",
    "    molar_free_energies = molar_free_energy_fun(x)\n",
    "    beta = 1/(kB*T)\n",
    "    equilibrium_vacancy_concentration_at_T = np.exp(-deltaE/(2*kB*T))/(2*np.cosh(deltaE*beta/2))\n",
    "    molar_free_energies_at_equilibrium = molar_free_energy_fun(equilibrium_vacancy_concentration_at_T)\n",
    "    \n",
    "    temperatures = np.linspace(10, 4000, 80)\n",
    "    equilibrium_vacancy_concentrations = np.exp(-deltaE/(2*kB*temperatures))/(2*np.cosh(deltaE/(2*kB*temperatures)) )\n",
    "\n",
    "    axes[0].clear()\n",
    "    axes[0].plot(x, molar_free_energies)\n",
    "    axes[0].scatter(equilibrium_vacancy_concentration_at_T, molar_free_energies_at_equilibrium, color='red', s=80, edgecolors='black')\n",
    "    axes[0].set_title('')\n",
    "    axes[0].set_xlim(0.001,0.999)\n",
    "    axes[0].set_ylim(-0.3,0.5)\n",
    "    axes[0].set_xlabel(\"Vacancy concentration $x$\")\n",
    "    axes[0].set_ylabel(\"Molar free energy $g(x)$ / eV\")\n",
    "\n",
    "\n",
    "    axes[1].clear()\n",
    "    axes[1].plot(temperatures, equilibrium_vacancy_concentrations, c='r')\n",
    "    axes[1].scatter(T, equilibrium_vacancy_concentration_at_T, color='red', s=80, edgecolors='black')\n",
    "    axes[1].set_title('')\n",
    "    axes[1].set_xlim(0,4000)\n",
    "    axes[1].set_ylim(0,0.5)\n",
    "    axes[1].set_xlabel(\"Temperature $T$ / K\")\n",
    "    axes[1].set_ylabel(\"Equilibrium vacancy concentration\")"
   ]
  },
  {
   "cell_type": "code",
   "execution_count": null,
   "metadata": {},
   "outputs": [],
   "source": [
    "fig_ax = plt.subplots(1, 2, figsize=(8,3.8), tight_layout=True)\n",
    "\n",
    "mfe_pb = WidgetParbox( deltaE=(0.2, 0.01, 0.3, 0.01, r\"$\\Delta E\\, /\\, eV$\"), \n",
    "                       T=(2000, 300, 4000, 50, r\"$T\\, /\\, K$ \"))\n",
    "\n",
    "ex01_wp = WidgetPlot(plot_molar_free_energy, mfe_pb, fig_ax=fig_ax)\n",
    "display(ex01_wp)"
   ]
  },
  {
   "cell_type": "markdown",
   "metadata": {},
   "source": [
    "The widgets above show the molar free energy of the defective crystal as a function of vacancy concentration for the temperature and vacancy formation energy selected in the sliders. The right-hand panel shows the equilibrium concentration _as a function of temperature_ (i.e. the red point on the free-energy curve determines the value of the concentration on the right-hand plot for that value of $T$. Manipulating this widget and observing the qualitative and quantitative behavior, answer the following questions.\n",
    "\n",
    "<span style=\"color:blue\"> **01b** What is the general trend of the equilibrium vacancy concentration with respect to temperature? How does $\\Delta E$ influence this trend?</span>"
   ]
  },
  {
   "cell_type": "code",
   "execution_count": null,
   "metadata": {},
   "outputs": [],
   "source": [
    "ex1b_txt = Textarea(\"Write the answer here.\", layout=Layout(width=\"100%\"))\n",
    "data_dump.register_field(\"ex1b-answer\", ex1b_txt, \"value\")\n",
    "display(ex1b_txt)"
   ]
  },
  {
   "cell_type": "markdown",
   "metadata": {},
   "source": [
    "<span style=\"color:blue\">**02** Do you think that it would be possible, in practice, to reach the maximum equilibrium vacancy concentration? What might happen before that? </span>"
   ]
  },
  {
   "cell_type": "code",
   "execution_count": null,
   "metadata": {},
   "outputs": [],
   "source": [
    "ex2_txt = Textarea(\"Write the answer here\", layout=Layout(width=\"100%\"))\n",
    "data_dump.register_field(\"ex2-answer\", ex2_txt, \"value\")\n",
    "display(ex2_txt)"
   ]
  },
  {
   "cell_type": "markdown",
   "metadata": {},
   "source": [
    "<span style=\"color:blue\">**03** Metals at room temperature often have a much higher vacancy concentration than it would be predicted by the expressions above. How can you explain this observation? </span>"
   ]
  },
  {
   "cell_type": "code",
   "execution_count": null,
   "metadata": {},
   "outputs": [],
   "source": [
    "ex3_txt = Textarea(\"Write the answer here\", layout=Layout(width=\"100%\"))\n",
    "data_dump.register_field(\"ex3-answer\", ex3_txt, \"value\")\n",
    "display(ex3_txt)"
   ]
  },
  {
   "cell_type": "markdown",
   "metadata": {},
   "source": [
    "# Vacancy formation energy"
   ]
  },
  {
   "cell_type": "markdown",
   "metadata": {},
   "source": [
    "In order to compute the vacancy formation energy, we need first to compute the energy of an atom in a perfect crystal. If the calculation is performed for a supercell with $n$ atoms, the molar energy is the total potential for the cell divided by $n$, $\\epsilon = E_n / n$. \n",
    "\n",
    "\n",
    "One then needs to build a supercell (that could contain a different number $m$ of atoms) and remove one. The energy of a vacancy can be computed by subtracting from the energy of the supercell that of $m-1$ atoms of a perfect crystal, \n",
    "\n",
    "$$ \n",
    "\\Delta E = E_{m-1} - (m-1)\\epsilon\n",
    "$$\n",
    "\n",
    "The visualizer below shows an _fcc_ structure, with one vacancy. Can you see what atom is missing? The second frame in the viewer shows green points at the ideal _fcc_ lattice positions, to help you identify the vacancy. "
   ]
  },
  {
   "cell_type": "code",
   "execution_count": null,
   "metadata": {},
   "outputs": [],
   "source": [
    "from ase.lattice.cubic import FaceCenteredCubic\n",
    "import copy\n",
    "\n",
    "al_fcc = FaceCenteredCubic(size=(2,2,2), symbol='Al', pbc=True)\n",
    "ref_f = al_fcc.copy(); ref_f.symbols = \"F\"*len(ref_f)\n",
    "al_fcc_vacancy = copy.deepcopy(al_fcc)\n",
    "\n",
    "del al_fcc_vacancy[17]\n",
    "al_fcc_strucs = [al_fcc, al_fcc_vacancy]\n",
    "\n",
    "cs_vacancy = chemiscope.show([al_fcc_vacancy, al_fcc_vacancy+ref_f], mode=\"structure\",                      \n",
    "                     settings={\"structure\":[{\"bonds\":False, \"unitCell\":True,\"supercell\":{\"0\":1,\"1\":1,\"2\":1},\n",
    "                                            \"environments\": {\"cutoff\": 40}}]}                    \n",
    "                    )\n",
    "display(cs_vacancy)"
   ]
  },
  {
   "cell_type": "markdown",
   "metadata": {},
   "source": [
    "<span style=\"color:blue\">**04** Write a function that computes the vacancy formation energy of aluminum (EAM potential), using a conventional _fcc_ cell (4-atoms, lattice parameter $a_0 = 4.05$Å) to get the molar energy, and a supercell replicated _nrep_ times in each direction, from which you can then remove one atom. Return the vacancy formation energy computed from the formula above. </span>"
   ]
  },
  {
   "cell_type": "markdown",
   "metadata": {},
   "source": [
    "_NB: you can remove an atom from an `ase.Atoms` structure by calling `del structure[[index]]` (note the double brackets). See the [module on interatomic potentials](./04-Potentials.ipynb) to remind you how the ASE potential calculator works_"
   ]
  },
  {
   "cell_type": "code",
   "execution_count": null,
   "metadata": {},
   "outputs": [],
   "source": [
    "ex04_wci = WidgetCodeInput(\n",
    "        function_name=\"vacancy_builder\", \n",
    "        function_parameters=\"nrep\",\n",
    "        docstring=\"\"\"\n",
    "Builds a model with a nrep×nrep×nrep supercell and a vacancy,\n",
    "and returns the vacancy formation energy.\n",
    "\n",
    ":param nrep: number of repetitions for the supercell\n",
    ":return e_vacancy: vacancy formation energy\n",
    "\"\"\",\n",
    "        function_body=\"\"\"\n",
    "import numpy as np\n",
    "from ase import Atoms\n",
    "from ase.calculators import eam\n",
    "\n",
    "return 0 # <-- remove this line after having finished the implementation of the function\n",
    "calc =  ...  # initializes the calculator \n",
    "\n",
    "## constructs an fcc unit cell\n",
    "a0 = 4.05 # lattice parameter of Al\n",
    "# constructs a unit cell\n",
    "fcc_cell = Atoms(\"Al4\", cell=..., positions=..., pbc=True, calculator=calc ) \n",
    "# and computes the energy\n",
    "e_cell = ...\n",
    "\n",
    "## creates the vacancy supercell\n",
    "vacancy = fcc_cell.replicate( ... )\n",
    "vacancy.calc = calc\n",
    "# removes an atom\n",
    "...\n",
    "e_supercell = ...\n",
    "\n",
    "# compute formation energy combining e_cell and e_supercell\n",
    "e_vacancy = ...\n",
    "# print(\"nrep = %d,  E_vac = %.4f eV\" %(nrep, e_vacancy)) # <- if you want to see the precise value printed out, uncomment this line\n",
    "return e_vacancy\n",
    "\"\"\"\n",
    "        )\n",
    "\n",
    "def plot_vac(ax):\n",
    "    ex04_out.clear_output()\n",
    "    func = ex04_wci.get_function_object()\n",
    "    with ex04_out:\n",
    "        values = np.asarray([ [n, func(n)] for n in [1,2,3,4]])\n",
    "    \n",
    "    ax.plot(values[:, 0], values[:,1], 'b*')\n",
    "    \n",
    "    ax.set_xlabel(r\"$n_{\\mathrm{rep}}$\")\n",
    "    ax.set_ylabel(r\"$E_{\\mathrm{vac}}$ / eV\")\n",
    "    #ax.set_ylim([-3, 3])\n",
    "\n",
    "    \n",
    "ex04_out = Output(layout=Layout(width='100%', height='100%', max_height='200px', overflow_y='scroll'))\n",
    "ex04_plot = WidgetPlot(plot_vac)\n",
    "\n",
    "data_dump.register_field(\"ex4-function\", ex04_wci, \"function_body\")        \n",
    "ex04_wcc = WidgetCodeCheck(ex04_wci, ref_values = {(1,) : 1.0199205493799237, (2,) : 0.770153142090478},\n",
    "                           demo=(ex04_plot, ex04_out))\n",
    "display(ex04_wcc)"
   ]
  },
  {
   "cell_type": "markdown",
   "metadata": {},
   "source": [
    "<span style=\"color:blue\">**05** What is the vacancy formation energy? Does the estimated value change with cell size? Does it depend on the index of the atom that is removed? Comment on what you observe. </span>"
   ]
  },
  {
   "cell_type": "code",
   "execution_count": null,
   "metadata": {},
   "outputs": [],
   "source": [
    "ex5_txt = Textarea(\"Write the answer here\", layout=Layout(width=\"100%\"))\n",
    "data_dump.register_field(\"ex5-answer\", ex5_txt, \"value\")\n",
    "display(ex5_txt)"
   ]
  },
  {
   "cell_type": "markdown",
   "metadata": {},
   "source": [
    "# Energy relaxation"
   ]
  },
  {
   "cell_type": "markdown",
   "metadata": {},
   "source": [
    "The exercise above assumes that atoms in the vicinity of a vacancy remain in their ideal lattice position. This is obviously a harsh approximation: with the change in environment, atoms will rearrange to find a more favorable position. This will both change the structure, and the energy of the system, and therefore affect the vacancy formation energy. \n",
    "\n",
    "To account for this rearrangement, one can _relax_ the geometry of the vacancy structure. The idea is simply to minimize the potential energy $V$ of the system, looking for a structure for which the force $\\mathbf{f}=-\\nabla V$ is zero. There is a large number of schemes that have been proposed to achieve this goal (see here those that are [implemented in ASE](https://wiki.fysik.dtu.dk/ase/ase/optimize.html)) which underscores the importance of energy relaxation to compute accurately the stability of structures. \n",
    "\n",
    "The most naïve approach, called [steepest descent](https://en.wikipedia.org/wiki/Gradient_descent) iteratively optimizes the structure following the gradient, \n",
    "\n",
    "$$\n",
    "\\mathbf{r} \\leftarrow \\mathbf{r} -\\alpha \\nabla V(\\mathbf{r}).\n",
    "$$\n",
    "\n",
    "Even though it may seem to be an efficient idea (following the direction of maximum decrease of the potential) in a high-dimensional problem it leads to very slow convergence. If you are curious, you can read about the mathematical aspects of optimization, and why steepest descent does not work, in these excellent [lecture notes](https://www.cs.cmu.edu/~quake-papers/painless-conjugate-gradient.pdf). \n",
    "\n",
    "Here we will use a rather sophisticated method, named [BFGS](https://en.wikipedia.org/wiki/Broyden%E2%80%93Fletcher%E2%80%93Goldfarb%E2%80%93Shanno_algorithm) from the names of its inventors. \n",
    "We sometimes will use a version of BFGS with reduced computer memory usage called [LBFGS](https://en.wikipedia.org/wiki/Limited-memory_BFGS).\n",
    "In practice, a BFGS/LBFGS optimization can be run as follows:\n",
    "\n",
    "```python\n",
    "from ase.optimize import BFGS, LBFGS\n",
    "structure = Atoms( ... , calculator=...)   # you can also initialize the structure and set the calculator with structure.calc = ...\n",
    "opt = BFGS(structure) # LBFGS(structure)\n",
    "opt.run(fmax=0.01)\n",
    "# the optimized geometry is stored in the `structure` object\n",
    "print(structure.positions, structure.get_potential_energy())\n",
    "```\n"
   ]
  },
  {
   "cell_type": "markdown",
   "metadata": {},
   "source": [
    "We will start by looking at a pre-coded function that minimizes the energy of a Lennard-Jones dimer.\n",
    "\n",
    "_NB: To trigger a re-calculation, you must click the update button after changing the sliders_"
   ]
  },
  {
   "cell_type": "code",
   "execution_count": null,
   "metadata": {},
   "outputs": [],
   "source": [
    "ex06_wci = WidgetCodeInput(\n",
    "        function_name=\"optimize_lj_dimer\", \n",
    "        function_parameters=\"sigma, epsilon, fmax\",\n",
    "        docstring=\"\"\"\n",
    "Optimizes the geometry He dimers using a LJ potential.\n",
    "\n",
    ":param sigma: LJ sigma\n",
    ":param epsilon: LJ epsilon\n",
    ":param fmax: threshold to reach so that the optimizer stops\n",
    "\n",
    ":return filename: filename of the optimization trajector of the structure\n",
    "\"\"\",\n",
    "        function_body=\"\"\"\n",
    "import ase \n",
    "from ase.optimize import BFGS\n",
    "from ase.calculators import lj\n",
    "\n",
    "ljcalc = lj.LennardJones(sigma=sigma, epsilon=epsilon, rc=4*sigma)\n",
    "structure = ase.Atoms('He2',\n",
    "                      positions=[[-2,0,0],[2,0,0]],\n",
    "                      pbc=False)\n",
    "structure.calc = ljcalc\n",
    "filename='lj_dimer_opt.xyz'\n",
    "opt = BFGS(structure, trajectory=filename)\n",
    "opt.max_steps=100\n",
    "opt.run(fmax=fmax)\n",
    "# returns just the filename, which will be used by the visualizer\n",
    "return filename\n",
    "\"\"\"\n",
    ")"
   ]
  },
  {
   "cell_type": "code",
   "execution_count": null,
   "metadata": {},
   "outputs": [],
   "source": [
    "    \n",
    "def fun_ex06(change={'type':'change'}):\n",
    "    ex06_out.clear_output()\n",
    "    fun_inputs = copy.deepcopy(ex06_pb.value)\n",
    "    fun_inputs['fmax'] = 10**ex06_pb.value['log10fmax']\n",
    "    fun_inputs.pop('log10fmax')\n",
    "    with ex06_out:\n",
    "        fname = ex06_wci.get_function_object()(**fun_inputs)\n",
    "    frames = ase.io.read(fname, ':')\n",
    "    \n",
    "    energies = np.asarray([f.calc.results['energy'] for f in frames])\n",
    "    \n",
    "    properties=dict(\n",
    "                index=np.arange(len(frames)),\n",
    "                energy=energies,\n",
    "                distances=[f.get_distance(0,1) for f in frames],\n",
    "                )\n",
    "\n",
    "    with ex06_up:\n",
    "        display(chemiscope.show(frames, properties, mode=\"structure\",\n",
    "                         settings={\"structure\":[{\"bonds\":False, \"unitCell\":False,\"supercell\":{\"0\":1,\"1\":1,\"2\":1},\n",
    "                                                \"environments\": {\"cutoff\": 40}}]})\n",
    "               )\n",
    "    \n",
    "ex06_up = WidgetUpdater(updater=fun_ex06)\n",
    "ex06_out = Output(layout=Layout(width='100%', height='100%', max_height='200px', overflow_y='scroll'))\n",
    "\n",
    "ex06_pb = WidgetParbox(sigma=(2.6, 0.1, 5., 0.1, r\"$\\sigma$\"), \n",
    "                        epsilon=(0.5, 0.1, 0.7, 0.01, r\"$\\epsilon$\"),\n",
    "                        log10fmax=(-3, -5, 0, 1, r\"$\\log_{10}(\\mathbf{f}_\\textrm{max})$\"))\n",
    "ex06_wcc = WidgetCodeCheck(ex06_wci, ref_values = {}, demo = (ex06_pb, ex06_out, ex06_up))\n",
    "\n",
    "display(ex06_wcc)"
   ]
  },
  {
   "cell_type": "markdown",
   "metadata": {},
   "source": [
    "<span style=\"color:blue\">**06a** Read the function above, that takes as arguments the parameters of a LJ potential, initializes a dimer at separation equal to $\\sigma$, and runs a geometry optimization.  Observe in the visualizer the behavior of the energy and distance. Are the equilibrium separation and binding energy compatible with the analytical result for the LJ dimer (see module 4)?</span>"
   ]
  },
  {
   "cell_type": "code",
   "execution_count": null,
   "metadata": {},
   "outputs": [],
   "source": [
    "ex6a_txt = Textarea(\"Write the answer here\", layout=Layout(width=\"100%\"))\n",
    "data_dump.register_field(\"ex6a-answer\", ex6a_txt, \"value\")\n",
    "display(ex6a_txt)"
   ]
  },
  {
   "cell_type": "markdown",
   "metadata": {},
   "source": [
    "<span style=\"color:blue\">**06b** How many steps are needed to reach convergence (set $\\sigma=2.6, \\epsilon=0.5, \\mathbf{f}_\\textrm{max}=0.001$ to ensure reproducibility) ? How many steps are needed if you make the convergence threshold 10 times larger and smaller? </span>"
   ]
  },
  {
   "cell_type": "code",
   "execution_count": null,
   "metadata": {},
   "outputs": [],
   "source": [
    "ex6b_txt = Textarea(\"Write the answer here\", layout=Layout(width=\"100%\"))\n",
    "data_dump.register_field(\"ex6b-answer\", ex6b_txt, \"value\")\n",
    "display(ex6b_txt)"
   ]
  },
  {
   "cell_type": "markdown",
   "metadata": {},
   "source": [
    "<span style=\"color:blue\">**07a** Combine the code for the vacancy formation energy calculation with that for the geometry optimization of the LJ dimer, to write a function that relaxes the vacancy geometry and returns the vacancy formation energy. </span>\n",
    "\n",
    "_NB: use the LBFGS optimizer, it's more memory efficient_"
   ]
  },
  {
   "cell_type": "code",
   "execution_count": null,
   "metadata": {},
   "outputs": [],
   "source": [
    "ex07_wci = WidgetCodeInput(\n",
    "        function_name=\"vacancy_relax\", \n",
    "        function_parameters=\"nrep\",\n",
    "        docstring=\"\"\"\n",
    "Builds a model with a nrep×nrep×nrep supercell and a vacancy, relaxes the geometry,\n",
    "and returns the vacancy formation energy.\n",
    "\n",
    ":param nrep: number of times the fcc unit cell should be replicated in building the supercell\n",
    "\n",
    ":return e_vacancy: vacancy formation energy\n",
    "\"\"\",\n",
    "        function_body=\"\"\"\n",
    "import numpy as np\n",
    "from ase import Atoms\n",
    "from ase.optimize import LBFGS\n",
    "from ase.calculators import eam\n",
    "\n",
    "return 0, None, None # <-- remove this after having completed the code below\n",
    "calc =  ...  # initializes the calculator \n",
    "\n",
    "## constructs an fcc unit cell\n",
    "a0 = 4.05 # lattice parameter of Al\n",
    "# constructs a unit cell\n",
    "fcc_cell = Atoms(\"Al4\", cell=..., positions=..., pbc=True, calculator=calc ) \n",
    "# and computes the energy\n",
    "e_cell = ...\n",
    "\n",
    "## creates the vacancy supercell\n",
    "vacancy = fcc_cell.repeat( ... )\n",
    "vacancy.calc = calc\n",
    "# removes an atom\n",
    "...\n",
    "\n",
    "## runs the optimization here (don't change the file name if you want to see the trajectory)\n",
    "filename\n",
    "opt = LBFGS\n",
    "\n",
    "e_supercell = ...\n",
    "\n",
    "# compute formation energy combining e_cell and e_supercell\n",
    "e_vacancy = ...\n",
    "# print(\"nrep = %d,  E_vac = %.4f eV\" %(nrep, e_vacancy)) # <- if you want to see the precise value printed out, uncomment this line\n",
    "return e_vacancy, fcc_cell, filename\n",
    "\"\"\"\n",
    "        )\n",
    "data_dump.register_field(\"ex7-function\", ex07_wci, \"function_body\")"
   ]
  },
  {
   "cell_type": "code",
   "execution_count": null,
   "metadata": {},
   "outputs": [],
   "source": [
    "def fun_ex07(change={'type':'change'}):\n",
    "    ex07_out.clear_output()\n",
    "    with ex07_out:\n",
    "        evac, fname, cell = ex07_wci.get_function_object()(**ex07_pb.value)\n",
    "    if fname is None: \n",
    "        return\n",
    "    frames = ase.io.read(fname, ':')\n",
    "    nrep = ex07_pb.value[\"nrep\"]\n",
    "    suxcell = cell.repeat(nrep)\n",
    "    suxcell.symbols = \"F\"*len(suxcell)    \n",
    "\n",
    "    energies = np.asarray([f.calc.results['energy'] for f in frames])\n",
    "    for frame in frames:\n",
    "        frame += suxcell\n",
    "        \n",
    "    properties=dict(\n",
    "                index=np.arange(len(frames)),\n",
    "                energy=energies,\n",
    "                )\n",
    "\n",
    "    with ex07_up:\n",
    "        display(chemiscope.show(frames, properties, mode=\"structure\"\n",
    "                         settings={\"structure\":[{\"bonds\":False, \"unitCell\":False,\"supercell\":{\"0\":1,\"1\":1,\"2\":1},\n",
    "                                                \"environments\": {\"cutoff\": 40}}]})\n",
    "               )\n",
    "\n",
    "\n",
    "ex07_up = WidgetUpdater(updater=fun_ex07)\n",
    "ex07_out = Output(layout=Layout(width='100%', height='100%', max_height='200px', overflow_y='scroll'))\n",
    "\n",
    "ex07_pb = WidgetParbox(nrep=(2,1,4,1, r\"$n_{\\mathrm{rep}}$\"))\n",
    "ex07_wcc = WidgetCodeCheck(ex07_wci, ref_values = {}, demo = (ex07_pb, ex07_out, ex07_up))\n",
    "\n",
    "display(ex07_wcc)"
   ]
  },
  {
   "cell_type": "markdown",
   "metadata": {},
   "source": [
    "After you finish the function above, you can plot the convergence of $E_{\\mathrm{vac}}$ with the supercell size. The computation might take several minutes."
   ]
  },
  {
   "cell_type": "code",
   "execution_count": null,
   "metadata": {},
   "outputs": [],
   "source": [
    "def plot_vac(ax):\n",
    "    vacout.clear_output()\n",
    "    # Somehow the ax is not cleared in the widget on the first run\n",
    "    # rerunning the cell works, but weirdly the computation also\n",
    "    # immediately starts\n",
    "    # todo for next time\n",
    "    ax.clear()\n",
    "    #ax.get_figure().canvas.flush_events()\n",
    "    func = ex07_wci.get_function_object()\n",
    "    with vacout:\n",
    "        print(\"Computing convergence curve\")\n",
    "        values = np.asarray([ [n, func(n)[0]] for n in [1,2,3,4]])\n",
    "    ax.plot(values[:, 0], values[:,1], 'b*')\n",
    "    \n",
    "    ax.set_xlabel(r\"$n_{\\mathrm{rep}}$\")\n",
    "    ax.set_ylabel(r\"$E_{\\mathrm{vac}}$ / eV\")\n",
    "\n",
    "vacout = Output(layout=Layout(width='100%', height='100%', max_height='200px', overflow_y='scroll'))\n",
    "vacbutton = Button(description=\"Compute curve\")\n",
    "vacbox = VBox([vacbutton, vacout])\n",
    "display(vacbox)\n",
    "vacplot = WidgetPlot(plot_vac)\n",
    "vacbutton.on_click(vacplot.update)\n",
    "vacbox.children += (vacplot,)"
   ]
  },
  {
   "cell_type": "markdown",
   "metadata": {},
   "source": [
    "<span style=\"color:blue\">**07b** What is the vacancy formation energy, after relaxation (take a cell size with 4  repetitions as the converged value)? Compare the system-size convergence with what you observed in the unrelaxed case. What changed? Why the difference? </span>"
   ]
  },
  {
   "cell_type": "code",
   "execution_count": null,
   "metadata": {},
   "outputs": [],
   "source": [
    "ex7b_txt = Textarea(\"Write the answer here\", layout=Layout(width=\"100%\"))\n",
    "data_dump.register_field(\"ex7b-answer\", ex7b_txt, \"value\")\n",
    "display(ex7b_txt)"
   ]
  },
  {
   "cell_type": "markdown",
   "metadata": {},
   "source": [
    "# Decohesion curves"
   ]
  },
  {
   "cell_type": "markdown",
   "metadata": {},
   "source": [
    "The surface energy of a material $\\gamma$ is the energy that one has to pay to create a unit area of surface. It is an important parameter that has implications for fracture mechanics, tribology, and adhesion. \n",
    "\n",
    "<img src=\"figures/surface-energy-2.png\" width=\"600\"/>\n",
    "\n",
    "In a computational model, one can realize quite easily the thought experiment of achieving a clear-cut cleavage of a crystal along a high-symmetry surface, using exactly the same strategy discussed in [the crystallography module](./02-Crystallography.ipynb) to generate a surface: a bulk structure is formed with a unit cell aligned along appropriate directions, and then one of the lattice parameter is extended, to create a slab geometry, with _two_ surfaces separated by vacuum. \n",
    "\n",
    "By computing the energy as a function of separation, we can build _decohesion curves_ that give a cue on the magnitude of the surface energy. The curve is usually expressed such that the energy for the ideal crystal structure is zero, and the energy at large separation corresponds to the surface energy. "
   ]
  },
  {
   "cell_type": "markdown",
   "metadata": {},
   "source": [
    "In this exercise and the next we will need a supercell with the axes aligned along different high-symmetry lattice directions, namely $(111)$, $(1\\bar{1}0)$, $(11\\bar{2})$. This was an optional task in [exercise 7, module 2](./02-Crystallography.ipynb), and here you can see the (non-trivial) solution. It is easy to see that those three directions are mutually orthogonal (which is useful as the resulting unit cell is orthorhombic), less easy to see how the bizarre coordinates generate a basis for an _fcc_ structure. Visualize the structure by clicking the `update` button, and try to replicate the cell along different directions to familiarize yourself with the different surfaces and lattice planes."
   ]
  },
  {
   "cell_type": "code",
   "execution_count": null,
   "metadata": {},
   "outputs": [],
   "source": [
    "fcc111_wci = WidgetCodeInput(\n",
    "        function_name=\"fccAl111_surface\", \n",
    "        function_parameters=\"\",\n",
    "        docstring=\"\"\"\n",
    "Returns a fcc Al (111) surface.\n",
    ":return struc: fcc Al (111) surface\n",
    "\"\"\",\n",
    "        function_body=\"\"\"\n",
    "import numpy as np\n",
    "from ase import Atoms\n",
    "a0 = 4.05 # lattice parameter of Al\n",
    "h0 = np.sqrt(np.asarray([[3,0,0],[0, 1/2, 0],[0,0,3/2]]))\n",
    "pos0 = np.sqrt(np.asarray([[ 0, 0, 0],\n",
    "\t\t\t\t\t\t   [0,1/8, 9/24],\n",
    "\t\t\t\t\t\t   [1/3,0,16/24],\n",
    "\t\t\t\t\t\t   [1/3,1/8,1/24],\n",
    "\t\t\t\t\t\t   [4/3,0,4/24],\n",
    "\t\t\t\t\t\t   [4/3,1/8,25/24]]))\n",
    "struc = Atoms(\"Al6\", cell=a0*h0, positions=pos0*a0, pbc=True)\n",
    "return struc\n",
    "\"\"\"\n",
    ")\n",
    "\n",
    "fcc111_vbox = VBox([],layout=Layout(overflow='hidden'))\n",
    "\n",
    "def fcc111_updater():\n",
    "    fcc111_vbox.children = ()\n",
    "    \n",
    "    fcc111 = fcc111_wci.get_function_object()()\n",
    "\n",
    "    fcc111cs = chemiscope.show(frames=[fcc111], mode=\"structure\",\n",
    "                             settings= {'structure' : [{'bonds': False,\n",
    "                                                        'unitCell': True,\n",
    "                                                        'spaceFilling': False,\n",
    "                                                        'supercell':{'0':1,'1':1,'2':1}, \n",
    "                                                        'keepOrientation': True,}]\n",
    "                                  })\n",
    "    fcc111_vbox.children = (fcc111cs,)\n",
    "    display(fcc111cs)\n",
    "\n",
    "fcc111_wcc = WidgetCodeCheck(fcc111_wci, ref_values = {}, demo=WidgetUpdater(updater=fcc111_updater))\n",
    "display(fcc111_wcc)"
   ]
  },
  {
   "cell_type": "markdown",
   "metadata": {},
   "source": [
    "Having an orthorhombic cell aligned with the high-symmetry directions makes it easy. Below you can see an already working function that separates two surfaces from each other with increasing distance, then computes the energy and finally plots the decohesion curve. Your exercise will be in the next widget. You will quickly realize that the function computing the surface energy is only returning zero until you implement it properly!"
   ]
  },
  {
   "cell_type": "code",
   "execution_count": null,
   "metadata": {},
   "outputs": [],
   "source": [
    "ex08_wci = WidgetCodeInput(\n",
    "        function_name=\"surface_energy\",\n",
    "        function_parameters=\"surface, surface_energy, fccAl111_surface\",\n",
    "        docstring=\"\"\"\n",
    "Computes the surface energy for a fcc Al (111) structure.\n",
    "\n",
    ":param surface: the direction of the surface normal, as a string [\"(111)\", \"(1-10)\", \"(11-2)\"]\n",
    ":param surface_energy: the function you implement in the exercise 8a\n",
    ":param fccAl111_surface: the function above computing a fcc Al (111) surface\n",
    "\n",
    ":return distances: distances between surfaces\n",
    ":return e_surfaces: surface energies\n",
    ":return frames: the structures with separated surfaces\n",
    "\"\"\",\n",
    "        function_body=\"\"\"\n",
    "from ase.calculators import lj\n",
    "import numpy as np\n",
    "\n",
    "if surface == \"(111)\":\n",
    "    surfac_vec_direction1 = 1\n",
    "    surfac_vec_direction2 = 2\n",
    "    surface_normal_direction = 0\n",
    "elif surface == \"(1-10)\":\n",
    "    surfac_vec_direction1 = 0\n",
    "    surfac_vec_direction2 = 2\n",
    "    surface_normal_direction = 1\n",
    "elif surface == \"(11-2)\":\n",
    "    surfac_vec_direction1 = 0\n",
    "    surfac_vec_direction2 = 1\n",
    "    surface_normal_direction = 2\n",
    "else:\n",
    "    ## We use a f-strings in the error message\n",
    "    raise ValueError(f\"Unknown option {surface}\")\n",
    "\n",
    "ljcalc = lj.LennardJones(sigma=2.6, epsilon=0.5, rc=4*2.6)\n",
    "\n",
    "## builds (2,2,2)-supercell, the surface normal is later repeated\n",
    "supercell_nrep = [2, 2, 2]\n",
    "supercell_nrep[surface_normal_direction] = 1\n",
    "fccAl111_supercell = fccAl111_surface().repeat(supercell_nrep)\n",
    "fccAl111_supercell.calc = ljcalc\n",
    "\n",
    "## Computes surface normal, it is important that we the primitive cell vector.\n",
    "## Otherwise we would change the surface normal when altering the primitive\n",
    "## cell vector, since they would share the same memory address\n",
    "surface_vec = fccAl111_supercell.cell[surface_normal_direction].copy()\n",
    "surface_normal = surface_vec/np.linalg.norm(surface_vec)\n",
    "\n",
    "## distances for the surface separation\n",
    "distances = np.linspace(0, 8, 10) # <-- 10 linearly-spaced values in range [0, 8]\n",
    "e_surfaces = []\n",
    "frames = []\n",
    "\n",
    "surface_vec1 = fccAl111_supercell.cell[surfac_vec_direction1]\n",
    "surface_vec2 = fccAl111_supercell.cell[surfac_vec_direction2]\n",
    "\n",
    "nrep = [1, 1, 1]\n",
    "nrep[surface_normal_direction] = 2\n",
    "for distance in distances:\n",
    "    ## The distance between the surfaces is increased by scaling the primitive cell vector\n",
    "    ## in the direction of the surface normal, then repeating the structure in the same\n",
    "    # direction\n",
    "    fccAl111_supercell.cell[surface_normal_direction] = surface_vec + surface_normal*distance\n",
    "    fccAl111_struc = fccAl111_supercell.repeat(nrep)\n",
    "    ## Rescales the primitive cell vector to match the periodic boundary conditions on both\n",
    "    ## sides of the cut.\n",
    "    ## You can try to comment out this line to see what happens.\n",
    "    fccAl111_struc.cell[surface_normal_direction] = 2*surface_vec + surface_normal*distance\n",
    "    fccAl111_struc.calc = ljcalc\n",
    "\n",
    "    energy = fccAl111_struc.get_potential_energy()\n",
    "    ## here ex08a-function computing the surface energy is used\n",
    "    e_surface = surface_energy(energy, surface_vec1, surface_vec2)\n",
    "    e_surfaces.append( e_surface )\n",
    "    frames.append( fccAl111_struc )\n",
    "    \n",
    "e_surfaces = np.asarray(e_surfaces)\n",
    "## removing baseline energy at distance 0 from all energies\n",
    "e_surfaces -= e_surfaces[0]\n",
    "return distances, e_surfaces, frames\n",
    "\"\"\"\n",
    ")"
   ]
  },
  {
   "cell_type": "code",
   "execution_count": null,
   "metadata": {},
   "outputs": [],
   "source": [
    "ex08_vb = VBox(layout=Layout())\n",
    "\n",
    "def fun_ex08(change={'type':'change'}):\n",
    "    ex08_out.clear_output()\n",
    "        \n",
    "    surface = ex08_pb.value['surface']\n",
    "    surface_energy_fun = ex08a_wci.get_function_object()\n",
    "    fcc111_surface_fun = fcc111_wci.get_function_object()\n",
    "    distances, energies, frames = ex08_wci.get_function_object()(surface,\n",
    "                                                             surface_energy_fun,\n",
    "                                                             fcc111_surface_fun)\n",
    "\n",
    "    properties=dict(\n",
    "                distances=distances,\n",
    "                surface_energy=energies,\n",
    "                )\n",
    "\n",
    "    with ex08_up:\n",
    "        display(chemiscope.show(frames, properties, mode=\"structure\",\n",
    "                         settings={\"structure\":[{\"bonds\":False, \"unitCell\":False,\"supercell\":{\"0\":1,\"1\":1,\"2\":1},\n",
    "                                                \"environments\": {\"cutoff\": 40}}]}))\n",
    "\n",
    "ex08_up = WidgetUpdater(updater=fun_ex08)\n",
    "ex08_out = Output(layout=Layout(width='100%', height='100%', max_height='200px', overflow_y='scroll'))\n",
    "\n",
    "ex08_pb = WidgetParbox(surface=(\"(111)\", [\"(111)\", \"(1-10)\", \"(11-2)\"], r\"Surface normal\"))\n",
    "ex08_wcc = WidgetCodeCheck(ex08_wci, ref_values={}, demo = (ex08_pb, ex08_out, ex08_up))\n",
    "display(ex08_wcc)\n"
   ]
  },
  {
   "cell_type": "markdown",
   "metadata": {},
   "source": [
    "<span style=\"color:blue\">**08a** Modify the function below so that it computes the surface energy $\\gamma$ in eV/Å².</span>"
   ]
  },
  {
   "cell_type": "code",
   "execution_count": null,
   "metadata": {},
   "outputs": [],
   "source": [
    "ex08a_wci = WidgetCodeInput(\n",
    "        function_name=\"surface_energy\",\n",
    "        function_parameters=\"energy, surface_vec1, surface_vec2\",\n",
    "        docstring=\"\"\"\n",
    "Computes the surface energy for a structure.\n",
    "\n",
    ":param energy: the energy of the structure with the separated surface \n",
    ":param surface_vec1: first vector spanning the separated surface\n",
    ":param surface_vec2: second vector spanning the separated surface\n",
    "\n",
    ":return e_surface: surface energy\n",
    "\"\"\",\n",
    "        function_body=\"\"\"\n",
    "from numpy import cross\n",
    "from numpy.linalg import norm\n",
    "\n",
    "# Compute these quantities\n",
    "area = 1\n",
    "e_surface = 0 / area\n",
    "\n",
    "return e_surface\n",
    "\"\"\"\n",
    ")"
   ]
  },
  {
   "cell_type": "code",
   "execution_count": null,
   "metadata": {},
   "outputs": [],
   "source": [
    "ex08a_vb = VBox(layout=Layout())\n",
    "    \n",
    "data_dump.register_field(\"ex8a-function\", ex08a_wci, \"function_body\")\n",
    "\n",
    "\n",
    "a0 = 4.05\n",
    "h0 = np.sqrt(np.asarray([[3,0,0],[0, 1/2, 0],[0,0,3/2]]))\n",
    "pos0 = np.sqrt(np.asarray([[ 0, 0, 0],[0,1/8, 9/24],[1/3,0,16/24],[1/3,1/8,1/24],[4/3,0,4/24],[4/3,1/8,25/24]]))\n",
    "struc = ase.Atoms(\"Al6\", cell=a0*h0, positions=pos0*a0, pbc=True )\n",
    "from ase.calculators import lj\n",
    "ljcalc = lj.LennardJones(sigma=2.6, epsilon=0.5, rc=4*2.6)\n",
    "struc.calc = ljcalc # assigns the calculator\n",
    "energy = struc.get_potential_energy()\n",
    "\n",
    "ex08a_wcc = WidgetCodeCheck(ex08a_wci, ref_values =\n",
    "                            {(energy, tuple(struc.cell[0].tolist()), tuple(struc.cell[1].tolist())): -1.2396836759068275})\n",
    "display(ex08a_wcc)\n"
   ]
  },
  {
   "cell_type": "markdown",
   "metadata": {},
   "source": [
    "<span style=\"color:blue\">**08b** What is the surface energy of aluminum along the $(111)$, $(1\\bar{1}0)$, $(11\\bar{2})$ directions? </span>"
   ]
  },
  {
   "cell_type": "code",
   "execution_count": null,
   "metadata": {},
   "outputs": [],
   "source": [
    "ex8_txt = Textarea(\"Write the answer here\", layout=Layout(width=\"100%\"))\n",
    "data_dump.register_field(\"ex8-answer\", ex8_txt, \"value\")\n",
    "display(ex8_txt)"
   ]
  },
  {
   "cell_type": "markdown",
   "metadata": {},
   "source": [
    "# Dislocations"
   ]
  },
  {
   "cell_type": "markdown",
   "metadata": {},
   "source": [
    "Dislocations are line defects that can be understood as a loss of register between lattice planes - essentially one section of a plane of atoms is removed, and the remaining pieces are glued together. \n",
    "Dislocations can move when a material is subject to strain, and are involved in the mechanism that underlie plastic deformations in metals. The mechanisms by which dislocations are created and move in a real material can be [quite complicated](https://en.wikipedia.org/wiki/Frank%E2%80%93Read_source).  \n",
    "\n",
    "<img src=\"figures/dislocation-edge.png\" width=\"400\"/>\n",
    "<div style='text-align:center; font-style:italic'>\n",
    "   Credits: Wikipedia, user Magasjukur2, License: CC-BY-SA\n",
    "</div>\n",
    "\n",
    "\n",
    "Even considering the idealized scenario in which a lattice plane is removed to form an edge dislocation, the image above is highly unrealistic. Atoms around a dislocation relax to form a distorted structure (_dislocation core_) surrounded by a long-range elastic field, whose form can be evaluated analytically based on continuum elasticity theory. \n",
    "A relatively simple example of the complex atomic rearrangements that can occur around a dislocation core is the splitting of a $1/2(1\\bar{1}0)\\{111\\}$ dislocations in an _fcc_ crystal into two _partials_ separated by a stacking fault. The process is illustrated schematically below: a dislocation along the $(1\\bar{1}0)$ directions corresponds to removal of _two_ $(110)$ lattice planes. The large deformation of the lattice can be accommodated by forming a pair of partial dislocations (that correspond to a single missing plane each) that are separated by a stacking fault region.\n",
    "\n",
    "The process is shown schematically in the figure below, and we are going to investigate it with an explicit simulation\n",
    "\n",
    "<img src=\"figures/split_disl_perspective.png\" width=\"600\"/>\n",
    "<div style='text-align:center; font-style:italic'>\n",
    "   Credits: Helmut Föll, Defects in Crystals\n",
    "</div>"
   ]
  },
  {
   "cell_type": "markdown",
   "metadata": {},
   "source": [
    "The function `relax_dislocation` below generates an Al _fcc_ structure. It removes a couple of $(110)$ half-planes, generating _a pair_ of dislocations at the two ends of the removed planes. It's easy to convince yourself that due to supercell periodicity it is not possible to generate a single dislocation. A distortion is then introduced to \"nudge\" the atoms towards closing the gap. A geometry optimization is then run to minimize the energy of the system. The demo widget shows the process, and the energies as computed by the chosen potential. \n",
    "\n",
    "_NB: That there are more refined schemes to build dislocation geometries, but this should give you the gist of the process._"
   ]
  },
  {
   "cell_type": "markdown",
   "metadata": {},
   "source": [
    "_Don't worry if you don't understand some of the Python/numpy syntax used below. Try to focus on the \"computational experiment\" being performed. The function returns the pieces that are then passed to your line energy function_"
   ]
  },
  {
   "cell_type": "code",
   "execution_count": null,
   "metadata": {},
   "outputs": [],
   "source": [
    "dislocation_wci = WidgetCodeInput(\n",
    "        function_name=\"relax_dislocation\", \n",
    "        function_parameters=\"line_energy\",\n",
    "        docstring=\"\"\"\n",
    "Builds and relaxes a dislocation model for a 1/2(1̅10){111} dislocation\n",
    "\n",
    ":param line_energy: a function that computes the line energy\n",
    "\n",
    ":return supercell: the supercell of the bulk without dislocations\n",
    ":return dislocated_supercell: the supercell containing the pair of dislocations \n",
    "The supercell with perfect bulk structure, and that with the initial dislocation\n",
    "\"\"\",\n",
    "        function_body=\"\"\"\n",
    "import numpy as np\n",
    "import ase\n",
    "from ase.io import read\n",
    "from ase.calculators import lj, eam\n",
    "from ase.optimize import LBFGSLineSearch\n",
    "\n",
    "# a LJ potential fitted to match some of the properties of FCC aluminum\n",
    "calc = lj.LennardJones(sigma=2.62, epsilon=0.41, rc=2*2.62)\n",
    "\n",
    "# creates an fcc unit cell with orientations along (111) (1̅10) (11̅2)\n",
    "a0 = 4.05  # lattice parameter of Al\n",
    "h0 = np.sqrt(np.asarray([[3,0,0],[0, 1/2, 0],[0,0,3/2]]))\n",
    "pos0 = np.sqrt(np.asarray([[ 0, 0, 0],\n",
    "                           [0,1/8, 9/24],\n",
    "                           [1/3,0,16/24],\n",
    "                           [1/3,1/8,1/24],\n",
    "                           [4/3,0,4/24],\n",
    "                           [4/3,1/8,25/24]]))\n",
    "al_bulk = ase.Atoms(\"Al6\", cell=a0*h0, positions=pos0*a0, pbc=True )\n",
    "al_bulk.calc = calc # assigns the calculator\n",
    "\n",
    "al_bulk_energy = al_bulk.get_potential_energy() # <-- gets energy of a perfect unit cell\n",
    "al_bulk_atom_energy = al_bulk_energy/len(al_bulk)\n",
    "\n",
    "# creates a supercell (you could try larger supercells!)\n",
    "supercell = al_bulk.repeat((6,24,1))  \n",
    "supercell.calc = calc\n",
    "dislocated_supercell = supercell.copy()\n",
    "\n",
    "### removes a slice of atoms (two (110) half-planes), creating the dislocation\n",
    "# selects the atoms in the half-planes based on their positions\n",
    "sel = np.where((np.abs(supercell.positions[:,1]-supercell.cell[1,1]/2-a0*0.12) < a0*0.35+ 1e-5) &\n",
    "               (np.abs(supercell.positions[:,0]-supercell.cell[0,0]/2)<supercell.cell[0,0]/4+1e-3)\n",
    "               )[0]\n",
    "# removes them by that generating dislocation\n",
    "del(dislocated_supercell[sel]) \n",
    "dislocated_supercell.calc = calc\n",
    "\n",
    "### pulls atoms closer at the center of the gap, to facilitate convergence \n",
    "# no need to worry about this horrible expression, just look at its effect in the visualizer!\n",
    "relaxed_dislocated_supercell = dislocated_supercell.copy()\n",
    "relaxed_dislocated_supercell.positions[:,1] -= (0.25*a0*np.sign(relaxed_dislocated_supercell.positions[:,1]-supercell.cell[1,1]/2)*np.exp(-(relaxed_dislocated_supercell.positions[:,1]-supercell.cell[1,1]/2)**2*0.5/(2*a0)**2)*np.exp(-(relaxed_dislocated_supercell.positions[:,0] -supercell.cell[0,0]/2)**2*0.5/((supercell.cell[0,0]/8)**2)))     \n",
    "\n",
    "### runs geometry optimization. this will output the trajectory data \n",
    "relaxed_dislocated_supercell.calc = calc\n",
    "opt = LBFGSLineSearch(relaxed_dislocated_supercell, trajectory='dislocation-lj.xyz', memory=50)\n",
    "opt.run(fmax=0.001)\n",
    "\n",
    "line_energy = line_energy(relaxed_dislocated_supercell.get_potential_energy(),\n",
    "                          len(relaxed_dislocated_supercell), \n",
    "                          al_bulk_atom_energy, supercell.cell[2,2])\n",
    "\n",
    "# this also returns a couple of things we need to plot a nice movie...\n",
    "return line_energy, supercell, dislocated_supercell\n",
    "\"\"\"\n",
    ")\n",
    "\n",
    "def dislocation_updater():\n",
    "    stdout = Output(layout=Layout(width='100%', height='100%', max_height='200px', overflow_y='scroll'))\n",
    "    vbox = VBox([stdout],layout=Layout(overflow='hidden'))\n",
    "    display(vbox)\n",
    "    with stdout:\n",
    "        line_energy, supercell, dislocation = dislocation_wci.get_function_object()(ex09a_wci.get_function_object())\n",
    "        print(\"Dislocation line energy: %.6f eV/Å\" % (line_energy))\n",
    "        \n",
    "    # reads data from the geop log\n",
    "    opt_traj = read('dislocation-lj.xyz',':')[::10]\n",
    "    # energy of the \"hard cut\"\n",
    "    edis = dislocation.get_potential_energy()\n",
    "    \n",
    "    # this accumulates the raw energies from the run. \n",
    "    energies = []\n",
    "    for frame in [dislocation]+opt_traj:\n",
    "        energies.append(ex09a_wci.get_function_object()(frame.get_potential_energy(), len(frame),\n",
    "                                                       supercell.get_potential_energy()/len(supercell), frame.cell[2,2]))\n",
    "    \n",
    "    # uses dummy F atoms to show the lattice positions in the absence of the dislocation (ideal structure)\n",
    "    supercell.symbols = \"F\"*len(supercell)\n",
    "    frames=[dislocation+supercell]+[(f+supercell) for f in opt_traj]\n",
    "\n",
    "    properties=dict(index=np.arange(1+len(opt_traj)), energy=energies)              \n",
    "        \n",
    "    cs = chemiscope.show(frames = frames, properties=properties,\n",
    "                             settings= {'structure' : [{'bonds': False, 'unitCell': True, 'spaceFilling': False, 'supercell':{'0':1,'1':1,'2':1}, \n",
    "                                                           'keepOrientation': True,}] },\n",
    "                         mode=\"structure\"\n",
    "                           )\n",
    "    vbox.children += (cs,)\n",
    "    \n",
    "\n",
    "dislocation_wcc = WidgetCodeCheck(dislocation_wci, ref_values = {},\n",
    "                           demo=WidgetUpdater(updater=dislocation_updater))\n",
    "display(dislocation_wcc)"
   ]
  },
  {
   "cell_type": "markdown",
   "metadata": {},
   "source": [
    "<span style=\"color:blue\">**09a** The function `relax_dislocation` above is already working (and quite complex). After having understood what it does, as a minimal personal contribution, write a function that computes the _line_ energy of the dislocation given the energy and size of the dislocation structure, a reference bulk energy and the lenght of the cell in the direction parallel to the dislocation (energies are in eV, lengths in Å). Then run again the optimization of the dislocation: the energies will be plotted in terms of line energies. </span>"
   ]
  },
  {
   "cell_type": "code",
   "execution_count": null,
   "metadata": {},
   "outputs": [],
   "source": [
    "ex09a_wci = WidgetCodeInput(\n",
    "        function_name=\"line_energy\", \n",
    "        function_parameters=\"dislocated_supercell_energy, dislocated_supercell_size, bulk_atom_energy, dislocation_length\",\n",
    "        docstring=\"\"\"\n",
    "Computes the dislocation line energy\n",
    "\n",
    ":param dislocated_supercell_energy: Energy of the supercell containing the pair of dislocations\n",
    ":param dislocated_supercell_size: Number of atoms in the supercell containing the pair of dislocations\n",
    ":param bulk_atom_energy: Per-atom energy of the perfect bulk (total energy divided by number of atoms)\n",
    ":param dislocation length: The length of the dislocation.\n",
    "\n",
    ":return line_energy: dislocation line energy\n",
    "\"\"\",\n",
    "function_body=\"\"\"\n",
    "## You need to modify this line, it's currently just returning the raw energy\n",
    "line_energy = dislocated_supercell_energy\n",
    "\n",
    "return line_energy\n",
    "\"\"\")\n",
    "data_dump.register_field(\"ex9a-function\", ex09a_wci, \"function_body\")        \n",
    "ex09a_wcc = WidgetCodeCheck(ex09a_wci, ref_values={(123,44,0.51,0.3):167.6})\n",
    "display(ex09a_wcc)"
   ]
  },
  {
   "cell_type": "markdown",
   "metadata": {},
   "source": [
    "<span style=\"color:blue\">**09b** What is the line energy for the dissociated dislocation? How many $(110)$ lattice planes separate the two partials?</span>\n",
    "\n",
    "_Hint: remember you can look at the properties of the structure by clicking on the info panel below the molecular geometry. As for the separation between the partials, give just a rough estimate by looking at the figure: this is how the center of a partial dislocation looks like:_\n",
    "<img src=\"figures/partial.png\"  width=\"200\"/>"
   ]
  },
  {
   "cell_type": "code",
   "execution_count": null,
   "metadata": {},
   "outputs": [],
   "source": [
    "ex9b_txt = Textarea(\"Write the answer here\", layout=Layout(width=\"100%\"))\n",
    "data_dump.register_field(\"ex9b-answer\", ex9b_txt, \"value\")\n",
    "display(ex9b_txt)"
   ]
  },
  {
   "cell_type": "markdown",
   "metadata": {},
   "source": [
    "<span style=\"color:blue\">**09c** (optional) Modify the function to use the Al EAM potential rather than the LJ one. What is the dislocation line energy? Observe the separation between the partials. How many lattice planes separate them? Compare with the case of the LJ model. </span>\n",
    "\n",
    "_The EAM is much slower, launch the calculation and go get a coffee... or several!_"
   ]
  },
  {
   "cell_type": "code",
   "execution_count": null,
   "metadata": {},
   "outputs": [],
   "source": [
    "ex9c_txt = Textarea(\"Write the answer here\", layout=Layout(width=\"100%\"))\n",
    "data_dump.register_field(\"ex9c-answer\", ex9c_txt, \"value\")\n",
    "display(ex9c_txt)"
   ]
  }
 ],
 "metadata": {
  "kernelspec": {
   "display_name": "Python 3",
   "language": "python",
   "name": "python3"
  },
  "language_info": {
   "codemirror_mode": {
    "name": "ipython",
    "version": 3
   },
   "file_extension": ".py",
   "mimetype": "text/x-python",
   "name": "python",
   "nbconvert_exporter": "python",
   "pygments_lexer": "ipython3",
   "version": "3.8.10"
  },
  "latex_envs": {
   "LaTeX_envs_menu_present": true,
   "autoclose": false,
   "autocomplete": true,
   "bibliofile": "biblio.bib",
   "cite_by": "apalike",
   "current_citInitial": 1,
   "eqLabelWithNumbers": true,
   "eqNumInitial": 1,
   "hotkeys": {
    "equation": "Ctrl-E",
    "itemize": "Ctrl-I"
   },
   "labels_anchors": false,
   "latex_user_defs": false,
   "report_style_numbering": false,
   "user_envs_cfg": false
  },
  "toc": {
   "base_numbering": 1,
   "nav_menu": {
    "height": "160px",
    "width": "252px"
   },
   "number_sections": true,
   "sideBar": true,
   "skip_h1_title": false,
   "title_cell": "Table of Contents",
   "title_sidebar": "Contents",
   "toc_cell": false,
   "toc_position": {
    "height": "461px",
    "left": "0px",
    "right": "927.667px",
    "top": "107px",
    "width": "139px"
   },
   "toc_section_display": "block",
   "toc_window_display": true
  }
 },
 "nbformat": 4,
 "nbformat_minor": 2
}
