{
 "cells": [
  {
   "cell_type": "code",
   "execution_count": null,
   "id": "80b65b49",
   "metadata": {},
   "outputs": [],
   "source": [
    "%load_ext autoreload\n",
    "%autoreload 2\n",
    "\n",
    "import matplotlib as mpl\n",
    "import matplotlib.pyplot as plt\n",
    "%matplotlib widget\n",
    "import numpy as np\n",
    "import scipy as sp\n",
    "\n",
    "from scwidgets import (AnswerRegistry, TextareaAnswer, CodeDemo,\n",
    "                       ParametersBox, PyplotOutput, ClearedOutput,\n",
    "                       AnimationOutput,CheckRegistry)\n",
    "\n",
    "from widget_code_input import WidgetCodeInput\n",
    "from ipywidgets import Layout, Output, Textarea\n",
    "\n",
    "from ase import Atoms"
   ]
  },
  {
   "cell_type": "markdown",
   "id": "6e45030e",
   "metadata": {},
   "source": [
    "Before you work on this module, please input your name to create a file that will store your answers, or load an existing file if you need to continue."
   ]
  },
  {
   "cell_type": "code",
   "execution_count": null,
   "id": "a7e2e4a1",
   "metadata": {},
   "outputs": [],
   "source": [
    "check_registry = CheckRegistry()  # this is needed to coordinate code checking\n",
    "answer_registry = AnswerRegistry(prefix=\"python_recap\")\n",
    "display(answer_registry)"
   ]
  },
  {
   "cell_type": "markdown",
   "id": "a8fdec66",
   "metadata": {},
   "source": [
    "# A brief Python re-cap"
   ]
  },
  {
   "cell_type": "markdown",
   "id": "eca8520c",
   "metadata": {},
   "source": [
    "This course assumes basic knowledge of the Python language (variables, conditionals, lists, function definitions...). If you are not familiar with these concepts, or with the syntax that is used to manipulate them in Python, you should follow some online crash-course, e.g.\n",
    "* [The Python Tutorial](https://docs.python.org/3/tutorial/index.html)\n",
    "* [Google for Education - Python Class](https://developers.google.com/edu/python)\n",
    "\n",
    "You can also use this [cheatsheet](https://www.pythoncheatsheet.org) to remember the basic syntax. \n",
    "\n",
    "In this module we focus on three concepts that some may not be familiar with, and that are used heavily in this class.\n",
    "\n",
    "* Modules, and how to import functionalities from external packages\n",
    "* Python objects: variables and methods, from a user perspective\n",
    "* Numpy arrays: numerical lists for maths, indexing and operations"
   ]
  },
  {
   "cell_type": "markdown",
   "id": "529f476f",
   "metadata": {},
   "source": [
    "# Extending Python through modules"
   ]
  },
  {
   "cell_type": "markdown",
   "id": "53970034",
   "metadata": {},
   "source": [
    "One of the features that made Python so successful is how easy it is to extend its capabilities by including external libraries into a program.  \n",
    "\n",
    "<div style=\"text-align:center\">\n",
    "<img src=\"./figures/xkcd-python.png\"/><br>\n",
    "    <a href=\"https://xkcd.com/353/\">Reproduced from xkcd.com</a>\n",
    "    Licensed under <a href=\"https://creativecommons.org/licenses/by-nc/2.5/\">CC-BY-NC-2.5</a>\n",
    "</div>\n",
    "\n",
    "There are several ways to include features from external packages, and it is important to understand what are the implications for _using_ those features. For example, let's consider the sine function `sin`. Python does not have built-in trigonometric functions, so we need to import them from and external library that implements the sine function, for example the `math` package.\n",
    "\n",
    "The simplest way to include functionality from a package is to import the whole library, using the syntax \n",
    "```python \n",
    "import library as alias\n",
    "``` \n",
    "The `as alias` part is optional and allows to provide a shorthand for when a library is used a lot or has a very long name. In order to access the functions provided by `library`, it is then necessary to specify the `alias`, too, e.g. `alias.function(1)`. If `alias` is not given, one simply uses `library.function(1)`. This is because the functions are not brought into the main namespace, but remain part of the library. For example,\n",
    "\n",
    "```python\n",
    "import math\n",
    "print(math.sin(1.0))\n",
    "```"
   ]
  },
  {
   "cell_type": "markdown",
   "id": "0c4971fb",
   "metadata": {},
   "source": [
    "It is also possible to import just a few selected functions, and bring them into the main namespace. This is useful when only a few of the functionalities offered by `library` need to be used a lot. The syntax is then `from library import function`, for example\n",
    "```python\n",
    "from math import sin\n",
    "print(sin(1.0))\n",
    "```\n",
    "It is also prossible to bring in _all_ functions from library into the main namespace using `from library import *`, but this is discouraged, as it increases the risk of having clashes between the names of functions imported from different packages. "
   ]
  },
  {
   "cell_type": "code",
   "execution_count": null,
   "id": "e2b54d40",
   "metadata": {},
   "outputs": [],
   "source": [
    "# initialize a widget for code input\n",
    "ex01_wci = WidgetCodeInput(\n",
    "        function_name = \"sin_cos\", \n",
    "        function_parameters=\"x\",\n",
    "        code_theme = \"default\",\n",
    "        docstring=\"\"\"\n",
    "Computes the sine and the cosine of an input value, and return both as a tuple\n",
    "\n",
    ":param x: the input angle, in radians\n",
    "\n",
    ":return: sin(x), cos(x)\n",
    "\"\"\",\n",
    "            function_body=\"\"\"\n",
    "# write code to import the sine and cosine function from the `math` module\n",
    "\n",
    "\n",
    "# compute sine and cosine\n",
    "s = 0\n",
    "c = 1\n",
    "\n",
    "return s, c\n",
    "\"\"\"\n",
    ")\n",
    "\n",
    "# initialize a CodeDemo object and initialize its checks in the check_registry:\n",
    "ex01_demo = CodeDemo( \n",
    "            code_input = ex01_wci,\n",
    "            check_registry = check_registry,\n",
    "            ) \n",
    "\n",
    "check_registry.add_check(ex01_demo,\n",
    "                         inputs_parameters=[{\"x\" : 0}, {\"x\":np.pi}, {\"x\": 0.12345} ],\n",
    "                         reference_outputs=[(0.0, 1.0), (0, -1.0), (0.12313667785133202, 0.9923897211114882)],\n",
    "                         equal=np.allclose)\n",
    "# Registers the answer\n",
    "answer_registry.register_answer_widget(\"ex01_function\", ex01_demo)"
   ]
  },
  {
   "cell_type": "code",
   "execution_count": null,
   "id": "b367a9f9",
   "metadata": {},
   "outputs": [],
   "source": [
    "# helper function to generate values for checking the function\n",
    "# check_registry.print_reference_outputs(ex01_demo, ignore_errors=True)"
   ]
  },
  {
   "cell_type": "markdown",
   "id": "785a2b0a",
   "metadata": {},
   "source": [
    "<span style=\"color:blue\"> **01** Write a function that imports the sine and cosine functions from the `math` library, and returns simultaneously sine and cosine of the argument. </span>\n",
    "\n",
    "_NB: it is possible to import python packages also within the body of a function. You can try different ways of importing the functions._"
   ]
  },
  {
   "cell_type": "code",
   "execution_count": null,
   "id": "7b11b83e",
   "metadata": {},
   "outputs": [],
   "source": [
    "display(ex01_demo)"
   ]
  },
  {
   "cell_type": "markdown",
   "id": "42cbabcc",
   "metadata": {},
   "source": [
    "# Python objects from a user perspective\n",
    "\n",
    "This section provides an operative guide to _using_ Python classes, assuming no formal training in object-oriented programming. If you want to learn more (e.g. if you want to see how you can define your own objects) you can check the \n",
    "[Python documentation on classes and objects](https://docs.python.org/3/tutorial/classes.html) or the [W3 schools tutorial](https://www.w3schools.com/python/python_classes.asp) (NB: with ads).\n",
    "\n",
    "An object - in Python and elsewhere - is a code construct that holds both data (_member variables_) and functionality (_methods_). Combining data and code makes it possible to conceptualize the relationship between the attributes of an item, and the operations that can be performed with (or on) it, and is usually thought to lead to code that is clearer, easier to understand and maintain. Objects in Python can be used like any other variable - passed as arguments to a function, and returned as the output of a function call. "
   ]
  },
  {
   "cell_type": "markdown",
   "id": "939d1749",
   "metadata": {},
   "source": [
    "Consider for example an object which is meant to represent a triangle. The geometry of a triangle can be entirely defined by its three sides, so we can combine in the same structure three floating point numbers describing the sides, `a, b, c`.  It would make sense to ask to compute the area of the triangle, or to scale it by a constant factor. A typical use case would be as follows\n",
    "\n",
    "```python\n",
    "my_triangle = Triangle(a=3.0, b=4.0, c=5.0)\n",
    "print(f\"The triangle has sides a={my_triangle.a}, b={my_triangle.b}, c={my_triangle.c}\")\n",
    "print(f\"The area of the triangle is {my_triangle.area()}\")\n",
    "print(f\"Now scaling the triangle...\")\n",
    "my_triangle.scale(factor=2.0)\n",
    "print(f\"The triangle has sides a={my_triangle.a}, b={my_triangle.b}, c={my_triangle.c}\")\n",
    "print(f\"The area of the triangle is {my_triangle.area()}\")\n",
    "```"
   ]
  },
  {
   "cell_type": "markdown",
   "id": "139ae054",
   "metadata": {},
   "source": [
    "## Initialization"
   ]
  },
  {
   "cell_type": "markdown",
   "id": "dbbdba27",
   "metadata": {},
   "source": [
    "Let's look at this code in some more detail. The first line corresponds to the _initialization_ of the `Triangle` object. `Triangle` is the name of the _class_ that defines the object (usually this will have been imported by a library), and by calling it with tree arguments, corresponding to the length of the triangle sides, we create an _instance_ of a triangle with the desired values. One can create many instances of a class, and each can be manipulated independently\n",
    "\n",
    "```python\n",
    "triangle_one = Triangle(a=3.0, b=4.0, c=2.0)\n",
    "triangle_two = Triangle(a=2.0, b=2.0, c=4.0)\n",
    "```\n",
    "\n",
    "The initialization might also run some checks, making sure that the object is created in a consistent state.\n",
    "\n",
    "Once an instance of a class is created, it is possible to interact with it in many ways. One can retrieve the values of the member variables, or directly set their values\n",
    "\n",
    "```python\n",
    "print(f\"The triangle has sides a={triangle_one.a}, b={triangle_one.b}, c={triangle_one.c}\")\n",
    "triangle_one.c = 5.0\n",
    "triangle_two.c = 2.0\n",
    "```\n",
    "\n",
    "Note that manually setting the values of some member variables might leave the object in an invalid state (unless the programmer of the class has put further checks in place). "
   ]
  },
  {
   "cell_type": "code",
   "execution_count": null,
   "id": "963209ea",
   "metadata": {},
   "outputs": [],
   "source": [
    "import math\n",
    "class Triangle:\n",
    "    def __init__(self, a, b, c):        \n",
    "        self.a, self.b, self.c = a, b, c\n",
    "        if a+b<c or b+c<a or a+c<b:\n",
    "            raise ValueError(f\"Cannot create a triangle with sides {(a,b,c)}, as they violate triangle inequality.\")\n",
    "    \n",
    "    def area(self):\n",
    "        # heron formula. it will fail if a,b,c don't fulfill triangle inequality\n",
    "        s = (self.a+self.b+self.c)/2       \n",
    "        return math.sqrt(s*(s-self.a)*(s-self.b)*(s-self.c))\n",
    "    \n",
    "    def scale(self, factor):\n",
    "        self.a*=factor; self.b*=factor; self.c*=factor; \n",
    "# ugly but necessary to make Triangle available in the CodeInput \n",
    "import builtins\n",
    "builtins.Triangle = Triangle"
   ]
  },
  {
   "cell_type": "code",
   "execution_count": null,
   "id": "1b4c52de",
   "metadata": {},
   "outputs": [],
   "source": [
    "# initialize a widget for code input\n",
    "ex02_wci = WidgetCodeInput(\n",
    "        function_name = \"triangle_playground\", \n",
    "        function_parameters=\"\",\n",
    "        code_theme = \"default\",\n",
    "        docstring=\"\"\"\n",
    "Create and return a valid Triangle object\n",
    "\n",
    ":return: A valid `Triangle` object\n",
    "\"\"\",\n",
    "            function_body=\"\"\"\n",
    "# NB: the Triangle class is not a builtin object and is only available here for this specific exercise\n",
    "\n",
    "# Create an instance of a Triangle and return it\n",
    "my_triangle = 0\n",
    "\n",
    "return my_triangle\n",
    "\"\"\"\n",
    ")\n",
    "\n",
    "\n",
    "def ex02_viz(code_input, visualizers):\n",
    "    with visualizers[0]:\n",
    "        triangle = code_input.get_function_object()()\n",
    "        print(f\"The triangle has sides a={triangle.a}, b={triangle.b}, c={triangle.c}\")\n",
    "        if (triangle.a+triangle.b<triangle.c or \n",
    "            triangle.b+triangle.c<triangle.a or\n",
    "            triangle.a+triangle.c<triangle.b):\n",
    "            print(\"The triangle sides do not fulfill the triangle inequality!\")\n",
    "            \n",
    "# initialize a CodeDemo object and initialize its checks in the check_registry:\n",
    "ex02_demo = CodeDemo( \n",
    "            code_input = ex02_wci,\n",
    "            visualizers=[ClearedOutput()],\n",
    "            update_visualizers=ex02_viz\n",
    "            ) \n",
    "\n",
    "            \n",
    "answer_registry.register_answer_widget(\"ex02_function\", ex02_demo)"
   ]
  },
  {
   "cell_type": "markdown",
   "id": "d07cf64b",
   "metadata": {},
   "source": [
    "<span style=\"color:blue\"> **02a** Write a function that creates and returns a valid `Triangle` object. </span>\n",
    "\n",
    "_Feel free to experiment setting and checking the values of the instance variables before converging on a correct answer. You can see the outputs of any `print` statement you include by running the checks._"
   ]
  },
  {
   "cell_type": "code",
   "execution_count": null,
   "id": "8b7377d7",
   "metadata": {},
   "outputs": [],
   "source": [
    "display(ex02_demo)"
   ]
  },
  {
   "cell_type": "markdown",
   "id": "b1e536f9",
   "metadata": {},
   "source": [
    "<div style=\"color:blue\"> <b>02b</b> Perform the following \"experiments\" and comment on what you observe.\n",
    "\n",
    "* Create a triangle with sides $a=2$, $b=3$, $c=8$. \n",
    "* Create a triangle with sides $a=2$, $b=2$, $c=2$, but then manually set `my_triangle.c=12` before returning it\n",
    "</div>"
   ]
  },
  {
   "cell_type": "code",
   "execution_count": null,
   "id": "d6781a28",
   "metadata": {},
   "outputs": [],
   "source": [
    "ex02_comments = TextareaAnswer(value='Answer here', layout=Layout(width='99%'))\n",
    "\n",
    "answer_registry.register_answer_widget(\"ex02_answer\", ex02_comments)\n",
    "\n",
    "display(ex02_comments)"
   ]
  },
  {
   "cell_type": "code",
   "execution_count": null,
   "id": "d5f1ee55",
   "metadata": {},
   "outputs": [],
   "source": [
    "# initialize a widget for code input\n",
    "ex03_wci = WidgetCodeInput(\n",
    "        function_name = \"equilateral_triangle\", \n",
    "        function_parameters=\"side\",\n",
    "        code_theme = \"default\",\n",
    "        docstring=\"\"\"\n",
    "Creates an equilateral triangle given its side\n",
    "\n",
    ":param side: The side of the triangle\n",
    "\n",
    ":return: An equilateral `Triangle` object\n",
    "\"\"\",\n",
    "            function_body=\"\"\"\n",
    "# NB: the Triangle class is not a builtin object and is only available here for this specific exercise\n",
    "\n",
    "# Create ai instance of a Triangle and return it\n",
    "my_triangle = 0\n",
    "\n",
    "return my_triangle\n",
    "\"\"\"\n",
    ")\n",
    "\n",
    "# initialize a CodeDemo object and initialize its checks in the check_registry:\n",
    "ex03_demo = CodeDemo( \n",
    "            code_input = ex03_wci,\n",
    "            check_registry = check_registry,\n",
    "            ) \n",
    "\n",
    "def ex03_asserts(output, reference):\n",
    "    assert isinstance(output, Triangle), \"The function should return a `Triangle` object\"\n",
    "    assert (output.a==output.b and output.a==output.c), \"The triangle is not equilateral\"  \n",
    "    assert (output.a==reference[0]), \"The side of the triangle does not match the input\"\n",
    "\n",
    "check_registry.add_check(ex03_demo,\n",
    "                         inputs_parameters=[{\"side\" : 1}, {\"side\": 2}],\n",
    "                         fingerprint= lambda t: (t.a, t.b, t.c),\n",
    "                         reference_outputs=[(1,1,1), (2,2,2)],\n",
    "                         custom_asserts=ex03_asserts\n",
    "                         )\n",
    "\n",
    "answer_registry.register_answer_widget(\"ex03_function\", ex03_demo)"
   ]
  },
  {
   "cell_type": "code",
   "execution_count": null,
   "id": "aee7c31a",
   "metadata": {},
   "outputs": [],
   "source": [
    "# helper function to generate values for checking the function\n",
    "#check_registry.print_reference_outputs(ex03_demo, ignore_errors=True)"
   ]
  },
  {
   "cell_type": "markdown",
   "id": "c52d3f5b",
   "metadata": {},
   "source": [
    "<span style=\"color:blue\"> **03** Write a function that creates a `Triangle` object, initialized to be an equilateral triangle with three equal sides equal to the argument passed to the function. </span>"
   ]
  },
  {
   "cell_type": "code",
   "execution_count": null,
   "id": "6a4282ef",
   "metadata": {},
   "outputs": [],
   "source": [
    "display(ex03_demo)"
   ]
  },
  {
   "cell_type": "markdown",
   "id": "e5dcb965",
   "metadata": {},
   "source": [
    "## Member functions and methods"
   ]
  },
  {
   "cell_type": "markdown",
   "id": "a7de67a2",
   "metadata": {},
   "source": [
    "Let's now shift our attention to how an object can be manipulated using member functions and methods. Member functions are called as `my_instance.member(arguments)` and can read and/or modify any instance variable of `my_instance`. \n",
    "\n",
    "For example, `my_triangle.area()` will return the area of the `Triangle` instance `my_triangle`, and `my_triangle.scale(2.0)` will double the size of all sides of `my_triangle`. "
   ]
  },
  {
   "cell_type": "code",
   "execution_count": null,
   "id": "64e078ca",
   "metadata": {},
   "outputs": [],
   "source": [
    "# initialize a widget for code input\n",
    "ex04_wci = WidgetCodeInput(\n",
    "        function_name = \"scaled_area\", \n",
    "        function_parameters=\"triangle, scale_factor\",\n",
    "        code_theme = \"default\",\n",
    "        docstring=\"\"\"\n",
    "Doubles the size of a triangle and returns its area.\n",
    "\n",
    ":param triangle: A `Triangle` object, already initialized\n",
    ":param scale_factor: How much the triangle sides should be scaled before computing the area\n",
    "\n",
    ":return: The area of the triangle, after having its sides doubled in length\n",
    "\"\"\",\n",
    "            function_body=\"\"\"\n",
    "# scale up the sides of triangle\n",
    "\n",
    "# compute its area\n",
    "my_area = 0\n",
    "\n",
    "return my_area\n",
    "\"\"\"\n",
    ")\n",
    "\n",
    "ex04_demo = CodeDemo( \n",
    "            code_input = ex04_wci,\n",
    "            check_registry = check_registry,\n",
    "            ) \n",
    "\n",
    "check_registry.add_check(ex04_demo,\n",
    "                         inputs_parameters=[{\"triangle\" : Triangle(3,4,5), \n",
    "                                             \"scale_factor\": 1}, \n",
    "                                            {\"triangle\" : Triangle(5,4,3), \n",
    "                                             \"scale_factor\": 2},],\n",
    "                         reference_outputs=[6., 24.],\n",
    "                         equal=np.allclose\n",
    "                         )\n",
    "            \n",
    "answer_registry.register_answer_widget(\"ex04_function\", ex04_demo)"
   ]
  },
  {
   "cell_type": "markdown",
   "id": "f055416a",
   "metadata": {},
   "source": [
    "<span style=\"color:blue\"> **04** Write a function that takes a Triangle as input, doubles its size and returns the area of the scaled up triangle. </span>"
   ]
  },
  {
   "cell_type": "code",
   "execution_count": null,
   "id": "3d8a088a",
   "metadata": {},
   "outputs": [],
   "source": [
    "display(ex04_demo)"
   ]
  },
  {
   "cell_type": "markdown",
   "id": "d69deea4",
   "metadata": {},
   "source": [
    "# NumPy arrays "
   ]
  },
  {
   "cell_type": "markdown",
   "id": "90995f51",
   "metadata": {},
   "source": [
    "There is virtually no scientific Python software that does not start with `import numpy as np`. So much so that code like the one below would make any experienced programmer cringe. \n",
    "\n",
    "<div style=\"text-align:center\">\n",
    "<img src=\"./figures/import_hell.png\"/>\n",
    "</div>\n",
    "\n",
    "[NumPy](https://numpy.org/) (and its close associate [SciPy](https://scipy.org/)) provide with essentially no effort access to all sorts of mathematical functions and utilities, and - if used properly - simplify greatly the task of writing numerical procedures in Python without paying the full performance price of using an interpreted language. \n",
    "\n",
    "It is impossible to cover all functionalities of `numpy` in a short module, so we will focus in particular on the use and semantics of NumPy arrays."
   ]
  },
  {
   "cell_type": "markdown",
   "id": "b3a2de9b",
   "metadata": {},
   "source": [
    "## Storage classes in Python"
   ]
  },
  {
   "cell_type": "markdown",
   "id": "e4d240aa",
   "metadata": {},
   "source": [
    "Before delving into the semantics of `numpy.array` objects, let's briefly recap the use of basic storage classes in native Python. You should already know all of this, but just in case...\n",
    "\n",
    "* Lists are created by writing comma-separated elements between square brackets. They can contain pretty much anything, including elements of different types. They can be updated by adding elements at the end of them using `my_list.append(entry)`, and are characterized by being _ordered_ storage classes, meaning that entries are identified by an unsigned integer between `0` and `len(my_list)-1` and can be accessed as `my_list[position]`. \n",
    "\n",
    "```python\n",
    "my_list = [0, \"pizza\", 123., Triangle(2,2,2)]\n",
    "my_list.append(\"pasta\")\n",
    "my_list[2] = 321.\n",
    "print(my_list[2])\n",
    "```\n",
    "\n",
    "* Tuples are essentially fixed-length, immutable lists. They are created by enumerating elements between round brackets, and the entries can be accessed as `my_tuple[position]`, but cannot be modified\n",
    "\n",
    "```python\n",
    "my_tuple = (0, \"pizza\", 123., Triangle(2,2,2))\n",
    "print(my_tuple[2])\n",
    "```\n",
    "\n",
    "* Dictionaries are associative maps, that link labels (that can be any type which can be [hashed](https://en.wikipedia.org/wiki/Hash_table)) to values, that can also be all sorts of objects and values. They can be created by listing `key:value` pairs between curly brackets, and accessed by the key value. Setting a missing element will create an entry in the dictionary.\n",
    "\n",
    "```python\n",
    "my_dict = { \"hello\": \"world\", 1234: \"is\", \"a triangle\": Triangle(1,1,1) }\n",
    "my_dict[15] = \"fifteen\"\n",
    "print(my_dict[\"hello\"])\n"
   ]
  },
  {
   "cell_type": "markdown",
   "id": "3d7d9a4b",
   "metadata": {},
   "source": [
    "## NumPy arrays: creation and indexing"
   ]
  },
  {
   "cell_type": "markdown",
   "id": "87d26f60",
   "metadata": {},
   "source": [
    "NumPy arrays behave very much like vectors and matrices. Even though in principle they can be created as heterogeneous lists, they are often used to store homogeneous lists of integers or floating point numbers. Contrary to lists, `append` does not add entries \"in place\" but creates a new array with the element(s) appended, and is rarely used. \n",
    "\n",
    "NumPy arrays can be created in many ways: starting from a list of values, or initialized using utility functions such as `numpy.zeros` or `numpy.ones`. \n",
    "An array has also a `shape`, that determines how you can index the elements as if the array was a tensor. \n",
    "\n",
    "```python\n",
    "import numpy as np\n",
    "a = np.array([1,2,3,4,5], dtype=int)     # note you can specify the type of the entries of the array\n",
    "b = np.zeros(shape=(2,4), dtype=float)   # note you can specify the shape of the array\n",
    "```"
   ]
  },
  {
   "cell_type": "code",
   "execution_count": null,
   "id": "1200d302",
   "metadata": {},
   "outputs": [],
   "source": [
    "# initialize a widget for code input\n",
    "ex05_wci = WidgetCodeInput(\n",
    "        function_name = \"numpy_playground\", \n",
    "        function_parameters=\"\",\n",
    "        code_theme = \"default\",\n",
    "        docstring=\"\"\"\n",
    "Create and return a valid numpy array\n",
    "\n",
    ":return: A valid `np.ndarray` object\n",
    "\"\"\",\n",
    "            function_body=\"\"\"\n",
    "import numpy as np\n",
    "\n",
    "# create and return a valid numpy array. you can also manipulate the array any way you like, as long as the return value is a np.ndarray\n",
    "my_array = 0\n",
    "\n",
    "return my_array\n",
    "\"\"\"\n",
    ")\n",
    "\n",
    "\n",
    "def ex05_viz(code_input, visualizers):\n",
    "    with visualizers[0]:\n",
    "        array = code_input.get_function_object()()\n",
    "        assert isinstance(array, np.ndarray), \"The return value is not a valid numpy array\"\n",
    "        print(f\"Array of type {array.dtype} and shape {array.shape}\")\n",
    "        print(array)\n",
    "            \n",
    "# initialize a CodeDemo object and initialize its checks in the check_registry:\n",
    "ex05_demo = CodeDemo( \n",
    "            code_input = ex05_wci,\n",
    "            visualizers=[ClearedOutput()],\n",
    "            update_visualizers=ex05_viz\n",
    "            ) \n",
    "\n",
    "            \n",
    "answer_registry.register_answer_widget(\"ex05_function\", ex05_demo)"
   ]
  },
  {
   "cell_type": "code",
   "execution_count": null,
   "id": "1a60188d",
   "metadata": {},
   "outputs": [],
   "source": [
    "display(ex05_demo)"
   ]
  },
  {
   "cell_type": "markdown",
   "id": "3d543701",
   "metadata": {},
   "source": [
    "One of the most common operations with arrays is to access their elements. NumPy really excels at indexing, and you are encouraged to use the [documentation](https://numpy.org/doc/stable/user/basics.indexing.html) to get a hint of the myriad of possibilities, or to understand what's going on in an example further on during this course. In short, however, arrays are indexed a bit like lists, with the possibility however of accessing entries along multiple _axes_. For instance\n",
    "\n",
    "```python\n",
    "a = np.array([[1,2,3,4],[9,8,7,6]]) # createx a 2x4 matrix\n",
    "print(a.shape)  # prints (2, 4)\n",
    "print(a[1,2])   # prints 7\n",
    "a[1,2] = 12     # you can also set entries in the matrix\n",
    "```\n",
    "Each axis is zero-based, much like for lists. There are also many ways to access an array in a more complicated way. It is possible to access _slices_ along an axis, using a `start:end:stride` syntax. This accesses the elements from `start` to `end-1`, taking only one entry every `stride` entries.\n",
    "\n",
    "```python\n",
    "a = np.zeros(10)\n",
    "a[1:5:2] = [1, 1]\n",
    "print(a)  # prints [0, 1, 0, 1, 0, 0, 0, 0, 0, 0]\n",
    "```\n",
    "\n",
    "In a multi-dimensional array, one can access individual rows or columns by indexing only along one axis. E.g., if `a` is a 2D array, `a[0]` will access the first row as if it were a 1D array, and `a[:,0]` will access the first column. \n",
    "\n",
    "```python\n",
    "a = np.zeros((3,3))\n",
    "a[1] = [1, 1, 1]\n",
    "a[:,2] = [2, 2, 2]\n",
    "print(a)  \n",
    "# [[0, 0, 2],\n",
    "#  [1, 1, 2],\n",
    "#  [0, 0, 2]]\n",
    "```"
   ]
  },
  {
   "cell_type": "code",
   "execution_count": null,
   "id": "173013fe",
   "metadata": {},
   "outputs": [],
   "source": [
    "# initialize a widget for code input\n",
    "ex06_wci = WidgetCodeInput(\n",
    "        function_name = \"numpy_indexing\", \n",
    "        function_parameters=\"matrix, i\",\n",
    "        code_theme = \"default\",\n",
    "        docstring=\"\"\"\n",
    "Swaps the entries in a row and a column of a square matrix. \n",
    "Given the index $i$, swaps A[i,j] and A[j,i] for all j's. \n",
    "\n",
    "\n",
    ":param matrix: A square matrix\n",
    ":param i: The index of the row and column\n",
    "\n",
    ":return: The transformed matrix\n",
    "\"\"\",\n",
    "            function_body=\"\"\"\n",
    "\n",
    "# do the swap ...\n",
    "\n",
    "return matrix\n",
    "\"\"\"\n",
    ")\n",
    "\n",
    "ex06_demo = CodeDemo( \n",
    "            code_input = ex06_wci,\n",
    "            check_registry = check_registry,\n",
    "            ) \n",
    "\n",
    "check_registry.add_check(ex06_demo,\n",
    "                         inputs_parameters=[{\"matrix\" : np.array([[1,2],[3,4]]), \"i\":0}, \n",
    "                                            {\"matrix\" : np.array([[1,2,3],[4,5,6],[7,8,9]]), \"i\":2},],\n",
    "                         reference_outputs=[np.array([[1, 3],\n",
    "       [2, 4]]), np.array([[1, 2, 7],\n",
    "       [4, 5, 8],\n",
    "       [3, 6, 9]])],\n",
    "                         equal=np.allclose\n",
    "                         )\n",
    "            \n",
    "answer_registry.register_answer_widget(\"ex06_function\", ex06_demo)"
   ]
  },
  {
   "cell_type": "code",
   "execution_count": null,
   "id": "b3e43722",
   "metadata": {},
   "outputs": [],
   "source": [
    "# helper function to generate values for checking the function\n",
    "#check_registry.print_reference_outputs(ex06_demo, ignore_errors=True)"
   ]
  },
  {
   "cell_type": "markdown",
   "id": "7ada4496",
   "metadata": {},
   "source": [
    "<span style=\"color:blue\"> **06** Write a function that swaps a chosen row and column in a square matrix, and returns the transformed matrix. You can make the transformation in place or create a copy. </span>\n",
    "\n",
    "_NB: you can create a copy of an `np.ndarray` with `b=a.copy()`. If you do the transformation in place, keep in mind that writing into a slice changes the elements of the actual matrix, so you will have to still make a copy of either the row or the column._"
   ]
  },
  {
   "cell_type": "code",
   "execution_count": null,
   "id": "9bab1dc9",
   "metadata": {},
   "outputs": [],
   "source": [
    "display(ex06_demo)"
   ]
  },
  {
   "cell_type": "markdown",
   "id": "6c4e29b2",
   "metadata": {},
   "source": [
    "## Operations with NumPy arrays"
   ]
  },
  {
   "cell_type": "markdown",
   "id": "d058f266",
   "metadata": {},
   "source": [
    "Contrary to Python lists, `numpy.ndarray` objects can be combined with arythmetic operations. These range from multiplication by a scalar, addition, subtraction, to inner and outer products or matrix multiplications. As we shall see, this is not only a matter of convenience: using array operations allows NumPy to perform time consuming operations within a compiled-language library, making some of the NumPy operations as fast as if they were witten in a compiled language.\n",
    "\n",
    "This is best explained by examples\n",
    "\n",
    "```python\n",
    "a = np.array([1,2,3,4])\n",
    "b = a*2.0 # b is [2,4,6,8]\n",
    "c = a - b # c is [-1,-2,-3,-4]\n",
    "# operations can also be performed in place, i.e. without creating a new array\n",
    "a *= 2.0  # a is [2,4,6,8]\n",
    "a -= b    # a is [0,0,0,0]\n",
    "```\n",
    "\n",
    "On top of these algebrical operations, it is also possible to apply reduction operations to an array, such as summing or averaging over one or more of its axes\n",
    "\n",
    "```python\n",
    "total = np.sum(b)  # yields 20\n",
    "mean = np.mean(b)  # yields 5\n",
    "total = b.mean()   # there is also a member-function syntax that does the same\n",
    "```"
   ]
  },
  {
   "cell_type": "code",
   "execution_count": null,
   "id": "42186490",
   "metadata": {},
   "outputs": [],
   "source": [
    "# initialize a widget for code input\n",
    "ex07_wci = WidgetCodeInput(\n",
    "        function_name = \"sum_squared\",\n",
    "        function_parameters=\"list\",\n",
    "        code_theme = \"default\",\n",
    "        docstring=\"\"\"\n",
    "Computes the sum of the squares of the entries in a list of numbers, \n",
    "both using a for loop and converting it to a numpy array and then \n",
    "using numpy array operations.\n",
    "\n",
    ":param list: A list of numbers\n",
    "\n",
    ":return: The sum of the squares of the entries, computed with a loop and using numpy, \n",
    "         and the timing for running the two operations\n",
    "\"\"\",\n",
    "            function_body=\"\"\"\n",
    "from time import time # timing operations are pre-coded\n",
    "import numpy as np\n",
    "\n",
    "time_list = time()\n",
    "sum_list = 0\n",
    "# does the list computation here. use a for loop\n",
    "\n",
    "\n",
    "time_list = time() - time_list\n",
    "\n",
    "time_numpy = time()\n",
    "# do the list->array conversion here, and use numpy operations to do the sum\n",
    "sum_numpy = 0\n",
    "\n",
    "\n",
    "time_numpy = time() - time_numpy\n",
    "\n",
    "return sum_list, sum_numpy, time_list, time_numpy\n",
    "\"\"\"\n",
    ")\n",
    "\n",
    "#We prepare the visualization and their update callback:\n",
    "ex07_fig = plt.figure()\n",
    "ex07_fig.add_subplot(111)\n",
    "ex07_plot = PyplotOutput(ex07_fig)\n",
    "\n",
    "def ex07_update_visualizer(code_input,visualizers):\n",
    "    pyplot_output = visualizers[0]\n",
    "    ax = pyplot_output.figure.get_axes()[0]\n",
    "    timers = code_input.get_function_object()\n",
    "    xgrid = [3, 10, 30, 100, 300, 1000, 3000, 10000]\n",
    "    times = np.array([[ timers(list(range(x)))[2:]  for x in xgrid]  for i in range(16) ]).mean(axis=0)\n",
    "    \n",
    "    ax.loglog(xgrid,times[:,0], label=\"list\")\n",
    "    ax.loglog(xgrid,times[:,1], label=\"ndarray\")\n",
    "    ax.set_xlabel(r\"list size\")\n",
    "    ax.set_ylabel(\"time / s\")\n",
    "    ax.set_title(\"Timing for computing the sum of squares\")\n",
    "    ax.legend()\n",
    "\n",
    "ex07_demo = CodeDemo( \n",
    "            code_input = ex07_wci,\n",
    "            check_registry = check_registry,\n",
    "            visualizers = [ex07_plot],\n",
    "            update_visualizers=ex07_update_visualizer\n",
    "            ) \n",
    "\n",
    "def ex07_asserts(output, reference):\n",
    "    assert len(output)==4, \"The function should return sum_list, sum_np, time_list, time_np\"\n",
    "    assert np.allclose(output[0], output[1]), f\"The list sum value {output[0]} does not match the numpy sum {output[1]}\"\n",
    "    assert output[0] == reference, f\"The sum of squares does not match the reference value\"\n",
    "\n",
    "check_registry.add_check(ex07_demo,\n",
    "                         inputs_parameters=[{\"list\" : [1,2,3,4]}, \n",
    "                                            {\"list\" : [2,-1,-2,1,0]},],\n",
    "                         reference_outputs=[ 30.0, 10.0 ],\n",
    "                         fingerprint = lambda x: x[0],\n",
    "                         custom_asserts = ex07_asserts\n",
    "                         )\n",
    "            \n",
    "answer_registry.register_answer_widget(\"ex07_function\", ex07_demo)"
   ]
  },
  {
   "cell_type": "code",
   "execution_count": null,
   "id": "303e135d",
   "metadata": {},
   "outputs": [],
   "source": [
    "# helper function to generate values for checking the function\n",
    "# check_registry.print_reference_outputs(ex07_demo, ignore_errors=True)"
   ]
  },
  {
   "cell_type": "markdown",
   "id": "348f43b3",
   "metadata": {},
   "source": [
    "<span style=\"color:blue\"> **07** Write a function that computes $\\sum_i v_i^2$ for a list of numbers corresponding to $\\mathbf{v}$.  The vector is given as a Python `list`, and you should compute the sum of squares both by using a for loop over the items in list, and by first converting the list to a `numpy.ndarray` and using NumPy operations. Return both sum values and the timing for the two approaches.  </span>\n",
    "\n",
    "_NB: the function contains already instructions to compute the timing. Make sure to include within the pairs of `time()` calls *all* the code needed for the two approaches._"
   ]
  },
  {
   "cell_type": "code",
   "execution_count": null,
   "id": "c4e74e9c",
   "metadata": {},
   "outputs": [],
   "source": [
    "display(ex07_demo)"
   ]
  },
  {
   "cell_type": "markdown",
   "id": "b126d1c4",
   "metadata": {},
   "source": [
    "## Universal functions and vectorialization"
   ]
  },
  {
   "cell_type": "markdown",
   "id": "2f6601dd",
   "metadata": {},
   "source": [
    "Another NumPy feature that is both very convenient and computationally efficient is that of `numpy.ufunc` \"universal functions\". These are essentially mathematical functions that act element-wise on all the entries in a `ndarray`, avoiding the overhead and inconvenience of explicit loops. This implements the concept of _vectorization_, or [array programming](https://en.wikipedia.org/wiki/Array_programming) in which the same operation is applied to many elements at once. \n",
    "\n",
    "Basic usage is extremely simple: if `x` is a NumPy array, `y=np.sin(x)` yields an array with the same size and shape as `x`, with entries `y[i] = sin(x[i])`. NumPy `ufunc`s can be also used as normal functions, applied to scalars.  "
   ]
  },
  {
   "cell_type": "code",
   "execution_count": null,
   "id": "7f2da474",
   "metadata": {},
   "outputs": [],
   "source": [
    "# initialize a widget for code input\n",
    "ex08_wci = WidgetCodeInput(\n",
    "        function_name = \"ufunc_plot\",\n",
    "        function_parameters=\"x, omega1, omega2\",\n",
    "        code_theme = \"default\",\n",
    "        docstring=\"\"\"\n",
    "Computes the sin(omega1*x)+sin(omega2*x), where x can be either a scalar or a numpy array. \n",
    "\n",
    ":param x: A scalar or a numpy array\n",
    ":param omega1, omega2: Two frequencies\n",
    "\n",
    ":return: sin(omega1*x)+sin(omega2*x)\n",
    "\"\"\",\n",
    "            function_body=\"\"\"\n",
    "import numpy as np\n",
    "\n",
    "return x\n",
    "\"\"\"\n",
    ")\n",
    "\n",
    "ex08_fig = plt.figure()\n",
    "ex08_fig.add_subplot(111)\n",
    "ex08_plot = PyplotOutput(ex08_fig)\n",
    "\n",
    "def ex08_update_visualizer(omega1, omega2, code_input,visualizers):\n",
    "    pyplot_output = visualizers[0]\n",
    "    ax = pyplot_output.figure.get_axes()[0]\n",
    "    func = code_input.get_function_object()\n",
    "    xgrid = np.linspace(-10,10,500)\n",
    "    ygrid = func(xgrid, omega1, omega2)\n",
    "    ax.plot(xgrid, ygrid, 'b-')\n",
    "    ax.set_xlabel(r\"x\")\n",
    "    ax.set_ylabel(\"y\")\n",
    "\n",
    "ex08_parbox = ParametersBox(omega1 = (1., 0.2, 5, 0.1, r'$\\omega_1$'),\n",
    "                            omega2 = (2., 0.2, 5, 0.1, r'$\\omega_2$'))\n",
    "ex08_demo = CodeDemo( \n",
    "            code_input = ex08_wci,\n",
    "            check_registry = check_registry,\n",
    "            input_parameters_box=ex08_parbox,\n",
    "            visualizers = [ex08_plot],\n",
    "            update_visualizers=ex08_update_visualizer\n",
    "            ) \n",
    "\n",
    "check_registry.add_check(ex08_demo,\n",
    "                         inputs_parameters=[{\"x\" : np.linspace(0,1,5), \"omega1\":1, \"omega2\":2}, \n",
    "                                            {\"x\" : np.linspace(-3,3,5), \"omega1\":-0.5, \"omega2\":0.2},\n",
    "                                           ],\n",
    "                         reference_outputs=[np.array([0.        , 0.7268295 , 1.32089652, 1.67913375, 1.75076841]), \n",
    "                               np.array([ 0.43285251,  0.38611855,  0.        , -0.38611855, -0.43285251])],\n",
    "                         equal=np.allclose\n",
    "                         )\n",
    "            \n",
    "answer_registry.register_answer_widget(\"ex08_function\", ex08_demo)"
   ]
  },
  {
   "cell_type": "markdown",
   "id": "c7e78e7c",
   "metadata": {},
   "source": [
    "<span style=\"color:blue\"> **02** Write a function that computes $\\sin \\omega_1 x+\\sin\\omega_2 x$ for each entry in a `np.ndarray` given as input, and returns an array with the values. This function will be used to make a plot of the sum of sines. </span>\n",
    "\n",
    "_Think of how much more code it would take to compute this without using universal functions._"
   ]
  },
  {
   "cell_type": "code",
   "execution_count": null,
   "id": "33c3e4af",
   "metadata": {},
   "outputs": [],
   "source": [
    "display(ex08_demo)"
   ]
  },
  {
   "cell_type": "markdown",
   "id": "f58c182e",
   "metadata": {},
   "source": [
    "## Beyond the surface"
   ]
  },
  {
   "cell_type": "markdown",
   "id": "8300d272",
   "metadata": {},
   "source": [
    "There are many more subtleties connected with using NumPy arrays, such as [broadcasting](https://numpy.org/doc/stable/user/basics.broadcasting.html), i.e. the rules that NumPy uses when combining arrays of different shape. You should not need these to follow the rest of this course, but if you ever see some bizarre array expression, it is likely to be manipulating unequal arrays based on broadcasting rules. \n",
    "\n",
    "More generally, this overview cannot cover even the core features of NumPy. The [documentation](https://numpy.org/doc/stable/index.html) is an excellent starting point to complement these brief notes."
   ]
  }
 ],
 "metadata": {
  "kernelspec": {
   "display_name": "Python 3",
   "language": "python",
   "name": "python3"
  },
  "language_info": {
   "codemirror_mode": {
    "name": "ipython",
    "version": 3
   },
   "file_extension": ".py",
   "mimetype": "text/x-python",
   "name": "python",
   "nbconvert_exporter": "python",
   "pygments_lexer": "ipython3",
   "version": "3.8.10"
  },
  "toc-autonumbering": true
 },
 "nbformat": 4,
 "nbformat_minor": 5
}
