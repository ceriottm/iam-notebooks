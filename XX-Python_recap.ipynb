{
 "cells": [
  {
   "cell_type": "code",
   "execution_count": 22,
   "id": "6a5f5953-7eed-44ee-b030-a0f3ce6091c4",
   "metadata": {},
   "outputs": [
    {
     "name": "stdout",
     "output_type": "stream",
     "text": [
      "The autoreload extension is already loaded. To reload it, use:\n",
      "  %reload_ext autoreload\n"
     ]
    }
   ],
   "source": [
    "%load_ext autoreload\n",
    "%autoreload 2\n",
    "\n",
    "%matplotlib widget\n",
    "import numpy as np\n",
    "import scipy as sp\n",
    "import matplotlib as mpl\n",
    "import matplotlib.pyplot as plt\n",
    "\n",
    "from scwidgets import (AnswerRegistry, TextareaAnswer, CodeDemo,\n",
    "                       ParametersBox, PyplotOutput, ClearedOutput,\n",
    "                       AnimationOutput,CheckRegistry)\n",
    "\n",
    "from widget_code_input import WidgetCodeInput\n",
    "from ipywidgets import Layout, Output, Textarea\n",
    "\n",
    "from ase import Atoms"
   ]
  },
  {
   "cell_type": "markdown",
   "id": "a0f2a24a-db0c-4b94-bfd8-e39693cff862",
   "metadata": {},
   "source": [
    "Before you work on this module, please input your name to create a file that will store your answers, or load an existing file if you need to continue."
   ]
  },
  {
   "cell_type": "code",
   "execution_count": 2,
   "id": "657287b8-ed8a-4147-9663-f89962b3fb45",
   "metadata": {},
   "outputs": [
    {
     "data": {
      "application/vnd.jupyter.widget-view+json": {
       "model_id": "268bfd5582314c88960e6540f797a6c6",
       "version_major": 2,
       "version_minor": 0
      },
      "text/plain": [
       "AnswerRegistry(children=(Output(layout=Layout(height='99%', width='99%')), HBox(children=(Dropdown(description…"
      ]
     },
     "metadata": {},
     "output_type": "display_data"
    }
   ],
   "source": [
    "check_registry = CheckRegistry()  # this is needed to coordinate code checking\n",
    "answer_registry = AnswerRegistry(prefix=\"module_xx\")\n",
    "display(answer_registry)"
   ]
  },
  {
   "cell_type": "markdown",
   "id": "9ff305d5-a4cc-4d66-8db3-21c91399e2c7",
   "metadata": {},
   "source": [
    "# A brief Python re-cap"
   ]
  },
  {
   "cell_type": "markdown",
   "id": "cc016389-0ebe-403d-a1c0-f90b5522874c",
   "metadata": {},
   "source": [
    "This course assumes basic knowledge of the Python language (variables, conditionals, lists, function definitions...). If you are not familiar with these concepts, or with the syntax that is used to manipulate them in Python, you should follow some online crash-course, e.g. **XXXXX give some links**.\n",
    "\n",
    "In this module we focus on three concepts that some may not be familiar with, and that are used heavily in this class.\n",
    "\n",
    "* Modules, and how to import functionalities from external packages\n",
    "* Python objects: variables and methods, from a user perspective\n",
    "* Numpy arrays: numerical lists for maths, indexing and operations"
   ]
  },
  {
   "cell_type": "markdown",
   "id": "c9b7426b-1c77-4c18-b5ff-18d4a340ec0b",
   "metadata": {},
   "source": [
    "# Extending Python through modules"
   ]
  },
  {
   "cell_type": "markdown",
   "id": "d9fde43a-bd03-4278-9468-d6031032cae3",
   "metadata": {},
   "source": [
    "One of the features that made Python so successful is how easy it is to extend its capabilities by including external libraries into a program.  \n",
    "\n",
    "<div style=\"text-align:center\">\n",
    "<img src=\"./figures/xkcd-python.png\"/><br>\n",
    "    <a href=\"https://xkcd.com/353/\">Reproduced from xkcd.com</a>\n",
    "    Licensed under <a href=\"https://creativecommons.org/licenses/by-nc/2.5/\">CC-BY-NC-2.5</a>\n",
    "</div>\n",
    "\n",
    "There are several ways to include features from external packages, and it is important to understand what are the implications for _using_ those features. For example, let's consider the sine function `sin`. Python does not have built-in trigonometric functions, so we need to import them from and external library that implements the sine function, for example the `math` package.\n",
    "\n",
    "The simplest way to include functionality from a package is to import the whole library, using the syntax \n",
    "```python \n",
    "import library as alias\n",
    "``` \n",
    "The `as alias` part is optional and allows to provide a shorthand for when a library is used a lot or has a very long name. In order to access the functions provided by `library`, it is then necessary to specify the `alias`, too, e.g. `alias.function(1)`. If `alias` is not given, one simply uses `library.function(1)`. This is because the functions are not brought into the main namespace, but remain part of the library. For example,\n",
    "\n",
    "```python\n",
    "import math\n",
    "print(math.sin(1.0))\n",
    "```"
   ]
  },
  {
   "cell_type": "markdown",
   "id": "92fc12dc-7e12-4fd0-92ae-83db922255df",
   "metadata": {},
   "source": [
    "It is also possible to import just a few selected functions, and bring them into the main namespace. This is useful when only a few of the functionalities offered by `library` need to be used a lot. The syntax is then `from library import function`, for example\n",
    "```python\n",
    "from math import sin\n",
    "print(sin(1.0))\n",
    "```\n",
    "It is also prossible to bring in _all_ functions from library into the main namespace using `from library import *`, but this is discoruaged, as it increases the risk of having clashes between the names of functions imported from different packages. "
   ]
  },
  {
   "cell_type": "code",
   "execution_count": 3,
   "id": "398efb95-7afa-4681-923b-caaaa59a06ef",
   "metadata": {},
   "outputs": [],
   "source": [
    "# initialize a widget for code input\n",
    "ex01_wci = WidgetCodeInput(\n",
    "        function_name = \"sin_cos\", \n",
    "        function_parameters=\"x\",\n",
    "        code_theme = \"default\",\n",
    "        docstring=\"\"\"\n",
    "Computes the sine and the cosine of an input value, and return both as a tuple\n",
    "\n",
    ":param x: the input angle, in radians\n",
    "\n",
    ":return: sin(x), cos(x)\n",
    "\"\"\",\n",
    "            function_body=\"\"\"\n",
    "# write code to import the sine and cosine function from the `math` module\n",
    "\n",
    "\n",
    "# compute sine and cosine\n",
    "s = 0\n",
    "c = 1\n",
    "\n",
    "return s, c\n",
    "\"\"\"\n",
    ")\n",
    "\n",
    "# initialize a CodeDemo object and initialize its checks in the check_registry:\n",
    "ex01_demo = CodeDemo( \n",
    "            code_input = ex01_wci,\n",
    "            check_registry = check_registry,\n",
    "            ) \n",
    "\n",
    "check_registry.add_check(ex01_demo,\n",
    "                         inputs_parameters=[{\"x\" : 0}, {\"x\":np.pi}, {\"x\": 0.12345} ],\n",
    "                         reference_outputs=[(0.0, 1.0), (0, -1.0), (0.12313667785133202, 0.9923897211114882)],\n",
    "                         equal=np.allclose)\n",
    "# Registers the answer\n",
    "answer_registry.register_answer_widget(\"ex01_function\", ex01_demo)"
   ]
  },
  {
   "cell_type": "code",
   "execution_count": 4,
   "id": "f15a5a7f-4a55-44c9-88ef-6a79087ac08d",
   "metadata": {},
   "outputs": [
    {
     "name": "stdout",
     "output_type": "stream",
     "text": [
      "Check 0:\n",
      "[(0, 1), (0, 1), (0, 1)]\n"
     ]
    }
   ],
   "source": [
    "# helper function to generate values for checking the function\n",
    "check_registry.print_reference_outputs(ex01_demo, ignore_errors=True)"
   ]
  },
  {
   "cell_type": "markdown",
   "id": "564172be-caac-4a55-ac49-5941d42f14a9",
   "metadata": {},
   "source": [
    "<span style=\"color:blue\"> **01** Write a function that imports the sine and cosine functions from the `math` library, and returns simultaneously sine and cosine of the argument. </span>\n",
    "\n",
    "_NB: it is possible to import python packages also within the body of a function. You can try different ways of importing the functions._"
   ]
  },
  {
   "cell_type": "code",
   "execution_count": 5,
   "id": "8d827bb3-5fb3-4a98-872e-9afc18c2f279",
   "metadata": {},
   "outputs": [
    {
     "data": {
      "application/vnd.jupyter.widget-view+json": {
       "model_id": "e76ed59f5d464a40b3311840894a8cef",
       "version_major": 2,
       "version_minor": 0
      },
      "text/plain": [
       "CodeDemo(children=(HBox(children=(CodeDemoBox(_dom_classes=('scwidget-box', 'scwidget-box--unchecked')), VBox(…"
      ]
     },
     "metadata": {},
     "output_type": "display_data"
    }
   ],
   "source": [
    "display(ex01_demo)"
   ]
  },
  {
   "cell_type": "markdown",
   "id": "f9a1d38f-febd-417d-9712-a1fcefec1d9e",
   "metadata": {},
   "source": [
    "# Python objects from a user perspective\n",
    "\n",
    "This section provides an operative guide to _using_ Python classes, assuming no formal training in object-oriented programming. If you want to learn more (e.g. if you want to see how you can define your own objects) you can follow some online tutorials, e.g. **add a few links here**.\n",
    "\n",
    "An object - in Python and elsewhere - is a code construct that holds both data (_member variables_) and functionality (_methods_). Combining data and code makes it possible to conceptualize the relationship between the attributes of an item, and the operations that can be performed with (or on) it, and is usually thought to lead to code that is clearer, easier to understand and maintain. Objects in Python can be used like any other variable - passed as arguments to a function, and returned as the output of a function call. "
   ]
  },
  {
   "cell_type": "markdown",
   "id": "e87bca30-127b-4814-a831-82ad556b6000",
   "metadata": {},
   "source": [
    "Consider for example an object which is meant to represent a triangle. The geometry of a triangle can be entirely defined by its three sides, so we can combine in the same structure three floating point numbers describing the sides, `a, b, c`.  It would make sense to ask to compute the area of the triangle, or to scale it by a constant factor. A typical use case would be as follows\n",
    "\n",
    "```python\n",
    "my_triangle = Triangle(a=3.0, b=4.0, c=5.0)\n",
    "print(f\"The triangle has sides a={my_triangle.a}, b={my_triangle.b}, c={my_triangle.c}\")\n",
    "print(f\"The area of the triangle is {my_triangle.area()}\")\n",
    "print(f\"Now scaling the triangle...\")\n",
    "my_triangle.scale(factor=2.0)\n",
    "print(f\"The triangle has sides a={my_triangle.a}, b={my_triangle.b}, c={my_triangle.c}\")\n",
    "print(f\"The area of the triangle is {my_triangle.area()}\")\n",
    "```"
   ]
  },
  {
   "cell_type": "markdown",
   "id": "a2187ccf-f2c1-4833-b189-d2f293c93d25",
   "metadata": {},
   "source": [
    "## Initialization"
   ]
  },
  {
   "cell_type": "markdown",
   "id": "089026e1-27a1-4b02-83b8-92d481ec9904",
   "metadata": {},
   "source": [
    "Let's look at this code in some more detail. The first line corresponds to the _initialization_ of the `Triangle` object. `Triangle` is the name of the _class_ that defines the object (usually this will have been imported by a library), and by calling it with tree arguments, corresponding to the length of the triangle sides, we create an _instance_ of a triangle with the desired values. One can create many instances of a class, and each can be manipulated independently\n",
    "\n",
    "```python\n",
    "triangle_one = Triangle(a=3.0, b=4.0, c=2.0)\n",
    "triangle_two = Triangle(a=2.0, b=2.0, c=4.0)\n",
    "```\n",
    "\n",
    "The initialization might also run some checks, making sure that the object is created in a consistent state.\n",
    "\n",
    "Once an instance of a class is created, it is possible to interact with it in many ways. One can retrieve the values of the member variables, or directly set their values\n",
    "\n",
    "```python\n",
    "print(f\"The triangle has sides a={triangle_one.a}, b={triangle_one.b}, c={triangle_one.c}\")\n",
    "triangle_one.c = 5.0\n",
    "triangle_two.c = 2.0\n",
    "```\n",
    "\n",
    "Note that manually setting the values of some member variables might leave the object in an invalid state (unless the programmer of the class has put further checks in place). "
   ]
  },
  {
   "cell_type": "code",
   "execution_count": 6,
   "id": "546b60a5-93b1-45d4-ad03-cf4754eac745",
   "metadata": {},
   "outputs": [],
   "source": [
    "import math\n",
    "class Triangle:\n",
    "    def __init__(self, a, b, c):        \n",
    "        self.a, self.b, self.c = a, b, c\n",
    "        if a+b<c or b+c<a or a+c<b:\n",
    "            raise ValueError(f\"Cannot create a triangle with sides {(a,b,c)}, as they violate triangle inequality.\")\n",
    "    \n",
    "    def area(self):\n",
    "        # heron formula. it will fail if a,b,c don't fulfill triangle inequality\n",
    "        s = (self.a+self.b+self.c)/2       \n",
    "        return math.sqrt(s*(s-self.a)*(s-self.b)*(s-self.c))\n",
    "    \n",
    "    def scale(self, factor):\n",
    "        self.a*=factor; self.b*=factor; self.c*=factor; \n",
    "# ugly but necessary to make Triangle available in the CodeInput \n",
    "import builtins\n",
    "builtins.Triangle = Triangle"
   ]
  },
  {
   "cell_type": "code",
   "execution_count": 7,
   "id": "0e0587cc-9a25-4de2-9931-0417f0436956",
   "metadata": {},
   "outputs": [],
   "source": [
    "# initialize a widget for code input\n",
    "ex02_wci = WidgetCodeInput(\n",
    "        function_name = \"triangle_playground\", \n",
    "        function_parameters=\"\",\n",
    "        code_theme = \"default\",\n",
    "        docstring=\"\"\"\n",
    "Create and return a valid Triangle object\n",
    "\n",
    ":return: An valid `Triangle` object\n",
    "\"\"\",\n",
    "            function_body=\"\"\"\n",
    "# NB: the Triangle class is not a builtin object and is only available here for this specific exercise\n",
    "\n",
    "# Create an instance of a Triangle and return it\n",
    "my_triangle = 0\n",
    "\n",
    "return my_triangle\n",
    "\"\"\"\n",
    ")\n",
    "\n",
    "\n",
    "def ex02_viz(code_input, visualizers):\n",
    "    with visualizers[0]:\n",
    "        triangle = code_input.get_function_object()()\n",
    "        print(f\"The triangle has sides a={triangle.a}, b={triangle.b}, c={triangle.c}\")\n",
    "        if (triangle.a+triangle.b<triangle.c or \n",
    "            triangle.b+triangle.c<triangle.a or\n",
    "            triangle.a+triangle.c<triangle.b):\n",
    "            print(\"The triangle sides do not fulfill the triangle inequality!\")\n",
    "            \n",
    "# initialize a CodeDemo object and initialize its checks in the check_registry:\n",
    "ex02_demo = CodeDemo( \n",
    "            code_input = ex02_wci,\n",
    "            visualizers=[ClearedOutput()],\n",
    "            update_visualizers=ex02_viz\n",
    "            ) \n",
    "\n",
    "            \n",
    "answer_registry.register_answer_widget(\"ex02_function\", ex02_demo)"
   ]
  },
  {
   "cell_type": "code",
   "execution_count": 8,
   "id": "b2569113-10b2-42fb-bf02-7e1a3a1bbaa2",
   "metadata": {},
   "outputs": [],
   "source": [
    "# helper function to generate values for checking the function\n",
    "check_registry.print_reference_outputs(ex02_demo, ignore_errors=True)"
   ]
  },
  {
   "cell_type": "markdown",
   "id": "1a37054d-b464-460f-9371-b4b51d77ee73",
   "metadata": {},
   "source": [
    "<span style=\"color:blue\"> **02a** Write a function that creates and returns a valid `Triangle` object. </span>\n",
    "\n",
    "_Feel free to experiment setting and checking the values of the instance variables before converging on a correct answer. You can see the outputs of any `print` statement you include by running the checks._"
   ]
  },
  {
   "cell_type": "code",
   "execution_count": 9,
   "id": "7aaf3105-ad83-446d-9343-3a116360fb48",
   "metadata": {},
   "outputs": [
    {
     "data": {
      "application/vnd.jupyter.widget-view+json": {
       "model_id": "e674fa58c11a48b795dac2fb51485b13",
       "version_major": 2,
       "version_minor": 0
      },
      "text/plain": [
       "CodeDemo(children=(HBox(children=(CodeDemoBox(_dom_classes=('scwidget-box', 'scwidget-box--out-of-date')), VBo…"
      ]
     },
     "metadata": {},
     "output_type": "display_data"
    }
   ],
   "source": [
    "display(ex02_demo)"
   ]
  },
  {
   "cell_type": "markdown",
   "id": "6955c4a5-eafd-43ee-9eef-ec18bb7f8fbf",
   "metadata": {},
   "source": [
    "<div style=\"color:blue\"> <b>02b</b> Perform the following \"experiments\" and comment on what you observe.\n",
    "\n",
    "* Create a triangle with sides $a=2$, $b=3$, $c=8$. \n",
    "* Create a triangle with sides $a=2$, $b=2$, $c=2$, but then manually set `my_triangle.c=12` before returning it\n",
    "</div>"
   ]
  },
  {
   "cell_type": "code",
   "execution_count": 10,
   "id": "9eb06bb0-10ed-41c0-80c8-9108d624adf0",
   "metadata": {},
   "outputs": [
    {
     "data": {
      "application/vnd.jupyter.widget-view+json": {
       "model_id": "ff81149bde8848d48c8ca20289dfe97c",
       "version_major": 2,
       "version_minor": 0
      },
      "text/plain": [
       "TextareaAnswer(children=(Textarea(value='Answer here', layout=Layout(width='99%')), VBox(children=(Button(desc…"
      ]
     },
     "metadata": {},
     "output_type": "display_data"
    }
   ],
   "source": [
    "ex02_comments = TextareaAnswer(value='Answer here', layout=Layout(width='99%'))\n",
    "\n",
    "answer_registry.register_answer_widget(\"ex02_answer\", ex02_comments)\n",
    "\n",
    "display(ex02_comments)"
   ]
  },
  {
   "cell_type": "code",
   "execution_count": 11,
   "id": "96fee538-234c-4618-9040-52f9eab0436d",
   "metadata": {},
   "outputs": [],
   "source": [
    "# initialize a widget for code input\n",
    "ex03_wci = WidgetCodeInput(\n",
    "        function_name = \"equilateral_triangle\", \n",
    "        function_parameters=\"side\",\n",
    "        code_theme = \"default\",\n",
    "        docstring=\"\"\"\n",
    "Creates an equilateral triangle given its side\n",
    "\n",
    ":param side: The side of the triangle\n",
    "\n",
    ":return: An equilateral `Triangle` object\n",
    "\"\"\",\n",
    "            function_body=\"\"\"\n",
    "# NB: the Triangle class is not a builtin object and is only available here for this specific exercise\n",
    "\n",
    "# Create ai instance of a Triangle and return it\n",
    "my_triangle = 0\n",
    "\n",
    "return my_triangle\n",
    "\"\"\"\n",
    ")\n",
    "\n",
    "# initialize a CodeDemo object and initialize its checks in the check_registry:\n",
    "ex03_demo = CodeDemo( \n",
    "            code_input = ex03_wci,\n",
    "            check_registry = check_registry,\n",
    "            ) \n",
    "\n",
    "def ex03_asserts(output, reference):\n",
    "    assert isinstance(output, Triangle), \"The function should return a `Triangle` object\"\n",
    "    assert (output.a==output.b and output.a==output.c), \"The triangle is not equilateral\"  \n",
    "    assert (output.a==reference[0]), \"The side of the triangle does not match the input\"\n",
    "\n",
    "check_registry.add_check(ex03_demo,\n",
    "                         inputs_parameters=[{\"side\" : 1}, {\"side\": 2}],\n",
    "                         fingerprint= lambda t: (t.a, t.b, t.c),\n",
    "                         reference_outputs=[(1,1,1), (2,2,2)],\n",
    "                         custom_asserts=ex03_asserts\n",
    "                         )\n",
    "\n",
    "answer_registry.register_answer_widget(\"ex03_function\", ex03_demo)"
   ]
  },
  {
   "cell_type": "code",
   "execution_count": 12,
   "id": "ae877f38-42a9-45c6-af6f-6c9607ab954a",
   "metadata": {},
   "outputs": [],
   "source": [
    "# helper function to generate values for checking the function\n",
    "check_registry.print_reference_outputs(ex03_demo, ignore_errors=True)"
   ]
  },
  {
   "cell_type": "markdown",
   "id": "d3ff115f-9b1c-4a03-92e8-426946d5c46e",
   "metadata": {},
   "source": [
    "<span style=\"color:blue\"> **03** Write a function that creates a `Triangle` object, initialized to be an equilateral triangle with three equal sides equal to the argument passed to the function. </span>"
   ]
  },
  {
   "cell_type": "code",
   "execution_count": 13,
   "id": "e88c23d5-a780-4443-8988-6b77de54fd58",
   "metadata": {},
   "outputs": [
    {
     "data": {
      "application/vnd.jupyter.widget-view+json": {
       "model_id": "0b8b762e578e436bbf06425e1bf7063f",
       "version_major": 2,
       "version_minor": 0
      },
      "text/plain": [
       "CodeDemo(children=(HBox(children=(CodeDemoBox(_dom_classes=('scwidget-box', 'scwidget-box--unchecked')), VBox(…"
      ]
     },
     "metadata": {},
     "output_type": "display_data"
    }
   ],
   "source": [
    "display(ex03_demo)"
   ]
  },
  {
   "cell_type": "markdown",
   "id": "80b4d2f5-010c-46c8-871a-660bc9787db0",
   "metadata": {},
   "source": [
    "## Member functions and methods"
   ]
  },
  {
   "cell_type": "markdown",
   "id": "c9c540e4-96e3-4390-bc3d-a06f42127522",
   "metadata": {},
   "source": [
    "Let's now shift our attention to how an object can be manipulated using member functions and methods. Member functions are called as `my_instance.member(arguments)` and can read and/or modify any instance variable of `my_instance`. \n",
    "\n",
    "For example, `my_triangle.area()` will return the area of the `Triangle` instance `my_triangle`, and `my_triangle.scale(2.0)` will double the size of all sides of `my_triangle`. "
   ]
  },
  {
   "cell_type": "code",
   "execution_count": 14,
   "id": "12e7b6e9-8585-4129-84bb-6c43900ec1b3",
   "metadata": {},
   "outputs": [],
   "source": [
    "# initialize a widget for code input\n",
    "ex04_wci = WidgetCodeInput(\n",
    "        function_name = \"scaled_area\", \n",
    "        function_parameters=\"triangle, scale_factor\",\n",
    "        code_theme = \"default\",\n",
    "        docstring=\"\"\"\n",
    "Doubles the size of a triangle and returns its area.\n",
    "\n",
    ":param triangle: A `Triangle` object, already initialized\n",
    ":param scale_factor: How much the triangle sides should be scaled before computing the area\n",
    "\n",
    ":return: The area of the triangle, after having its sides doubled in length\n",
    "\"\"\",\n",
    "            function_body=\"\"\"\n",
    "# scale up the sides of triangle\n",
    "\n",
    "# compute its area\n",
    "my_area = 0\n",
    "\n",
    "return my_area\n",
    "\"\"\"\n",
    ")\n",
    "\n",
    "ex04_demo = CodeDemo( \n",
    "            code_input = ex04_wci,\n",
    "            check_registry = check_registry,\n",
    "            ) \n",
    "\n",
    "check_registry.add_check(ex04_demo,\n",
    "                         inputs_parameters=[{\"triangle\" : Triangle(3,4,5), \n",
    "                                             \"scale_factor\": 1}, \n",
    "                                            {\"triangle\" : Triangle(5,4,3), \n",
    "                                             \"scale_factor\": 2},],\n",
    "                         reference_outputs=[6., 24.],\n",
    "                         equal=np.allclose\n",
    "                         )\n",
    "\n",
    "\n",
    "            \n",
    "answer_registry.register_answer_widget(\"ex04_function\", ex04_demo)"
   ]
  },
  {
   "cell_type": "markdown",
   "id": "77a57521-71a7-456c-b55c-1a880b467471",
   "metadata": {},
   "source": [
    "<span style=\"color:blue\"> **04** Write a function that takes a Triangle as input, doubles its size and returns the area of the scaled up triangle. </span>"
   ]
  },
  {
   "cell_type": "code",
   "execution_count": 15,
   "id": "2b6cc5e7-e246-4a7a-8060-d8d3ec964d86",
   "metadata": {},
   "outputs": [
    {
     "data": {
      "application/vnd.jupyter.widget-view+json": {
       "model_id": "24ffebe751bb46c4987423edadd4fb56",
       "version_major": 2,
       "version_minor": 0
      },
      "text/plain": [
       "CodeDemo(children=(HBox(children=(CodeDemoBox(_dom_classes=('scwidget-box', 'scwidget-box--unchecked')), VBox(…"
      ]
     },
     "metadata": {},
     "output_type": "display_data"
    }
   ],
   "source": [
    "display(ex04_demo)"
   ]
  },
  {
   "cell_type": "markdown",
   "id": "c4c481f8-c7c6-4d9e-b02b-66ceceaf4d82",
   "metadata": {},
   "source": [
    "# NumPy arrays "
   ]
  },
  {
   "cell_type": "markdown",
   "id": "b3417557-da21-4445-abf6-87727c4ac0ee",
   "metadata": {},
   "source": [
    "There is virtually no scientific Python software that does not start with `import numpy as np`. So much so that code like the one below would make any experienced programmer cringe. \n",
    "\n",
    "<div style=\"text-align:center\">\n",
    "<img src=\"./figures/import_hell.png\"/>\n",
    "</div>\n",
    "\n",
    "[NumPy](https://numpy.org/) (and its close associate [SciPy](https://scipy.org/)) provide with essentially no effort access to all sorts of mathematical functions and utilities, and - if used properly - simplify greatly the task of writing numerical procedures in Python without paying the full performance price of using an interpreted language. \n",
    "\n",
    "It is impossible to cover all functionalities of `numpy` in a short module, so we will focus in particular on the use and semantics of NumPy arrays."
   ]
  },
  {
   "cell_type": "markdown",
   "id": "ec3475a5-7013-4a0d-929a-186b7e4c7cbd",
   "metadata": {},
   "source": [
    "## Storage classes in Python"
   ]
  },
  {
   "cell_type": "markdown",
   "id": "ab98a03b-d9b6-4847-94ec-8e4e307856b9",
   "metadata": {},
   "source": [
    "Before delving into the semantics of `numpy.array` objects, let's briefly recap the use of basic storage classes in native Python. You should already know all of this, but just in case...\n",
    "\n",
    "* Lists are created by writing comma-separated elements between square brackets. They can contain pretty much anything, including elements of different types. They can be updated by adding elements at the end of them using `my_list.append(entry)`, and are characterized by being _ordered_ storage classes, meaning that entries are identified by an unsigned integer between `0` and `len(my_list)-1` and can be accessed as `my_list[position]`. \n",
    "\n",
    "```python\n",
    "my_list = [0, \"pizza\", 123., Triangle(2,2,2)]\n",
    "my_list.append(\"pasta\")\n",
    "my_list[2] = 321.\n",
    "print(my_list[2])\n",
    "```\n",
    "\n",
    "* Tuples are essentially fixed-length, immutable lists. They are created by enumerating elements between round brackets, and the entries can be accessed as `my_tuple[position]`, but cannot be modified\n",
    "\n",
    "```python\n",
    "my_tuple = (0, \"pizza\", 123., Triangle(2,2,2))\n",
    "print(my_tuple[2])\n",
    "```\n",
    "\n",
    "* Dictionaries are associative maps, that link labels (that can be any type which can be [hashed](https://en.wikipedia.org/wiki/Hash_table)) to values, that can also be all sorts of objects and values. They can be created by listing `key:value` pairs between curly brackets, and accessed by the key value. Setting a missing element will create an entry in the dictionary.\n",
    "\n",
    "```python\n",
    "my_dict = { \"hello\": \"world\", 1234: \"is\", \"a triangle\": Triangle(1,1,1) }\n",
    "my_dict[15] = \"fifteen\"\n",
    "print(my_dict[\"hello\"])\n"
   ]
  },
  {
   "cell_type": "markdown",
   "id": "73e03ca3-7082-4300-9542-8ba224f16ceb",
   "metadata": {},
   "source": [
    "## NumPy arrays: creation and indexing"
   ]
  },
  {
   "cell_type": "markdown",
   "id": "52d36e6e-be34-4eca-9871-c4bc92f8fd81",
   "metadata": {},
   "source": [
    "NumPy arrays behave very much like vectors and matrices. Even though in principle they can be created as heterogeneous lists, they are often used to store homogeneous lists of integers or floating point numbers. Contrary to lists, `append` does not add entries \"in place\" but creates a new array with the element(s) appended. \n",
    "\n",
    "NumPy arrays can be created in many ways: starting from a list of values, or initialized using utility functions such as `numpy.zeros` or `numpy.ones`. \n",
    "An array has also a `shape`, that determines how you can index the elements as if the array was a tensor. \n",
    "\n",
    "```python\n",
    "import numpy as np\n",
    "a = np.array([1,2,3,4,5], dtype=int)     # note you can specify the type of the entries of the array\n",
    "b = np.zeros(shape=(2,4), dtype=float)   # note you can specify the shape of the array\n",
    "```"
   ]
  },
  {
   "cell_type": "code",
   "execution_count": 25,
   "id": "529eeef3-bc8c-4869-abd2-61b4d62cec43",
   "metadata": {},
   "outputs": [
    {
     "name": "stderr",
     "output_type": "stream",
     "text": [
      "<ipython-input-25-747920018ee9>:1: DeprecationWarning: `np.float` is a deprecated alias for the builtin `float`. To silence this warning, use `float` by itself. Doing this will not modify any behavior and is safe. If you specifically wanted the numpy scalar type, use `np.float64` here.\n",
      "Deprecated in NumPy 1.20; for more details and guidance: https://numpy.org/devdocs/release/1.20.0-notes.html#deprecations\n",
      "  a = np.array([1,2,3,4,5], dtype=np.float) # note you can specify the type of the entries of the array\n"
     ]
    }
   ],
   "source": [
    "a = np.array([1,2,3,4,5], dtype=np.float) # note you can specify the type of the entries of the array\n",
    "b = np.zeros(shape=(2,4), dtype=np.double)"
   ]
  },
  {
   "cell_type": "code",
   "execution_count": 18,
   "id": "a7b73ac9-0061-4ef9-b7d4-074ddbefd073",
   "metadata": {},
   "outputs": [],
   "source": [
    "a = (4, \"hi\", Triangle(1,1,1))"
   ]
  },
  {
   "cell_type": "code",
   "execution_count": 19,
   "id": "b008aeac-3859-4536-9936-8851e404dc48",
   "metadata": {},
   "outputs": [
    {
     "ename": "TypeError",
     "evalue": "'tuple' object does not support item assignment",
     "output_type": "error",
     "traceback": [
      "\u001b[0;31m---------------------------------------------------------------------------\u001b[0m",
      "\u001b[0;31mTypeError\u001b[0m                                 Traceback (most recent call last)",
      "\u001b[0;32m<ipython-input-19-390f2e90dcac>\u001b[0m in \u001b[0;36m<module>\u001b[0;34m\u001b[0m\n\u001b[0;32m----> 1\u001b[0;31m \u001b[0ma\u001b[0m\u001b[0;34m[\u001b[0m\u001b[0;36m0\u001b[0m\u001b[0;34m]\u001b[0m\u001b[0;34m=\u001b[0m\u001b[0;36m2\u001b[0m\u001b[0;34m\u001b[0m\u001b[0;34m\u001b[0m\u001b[0m\n\u001b[0m",
      "\u001b[0;31mTypeError\u001b[0m: 'tuple' object does not support item assignment"
     ]
    }
   ],
   "source": [
    "a[0]=2"
   ]
  },
  {
   "cell_type": "code",
   "execution_count": null,
   "id": "e635a62f-73c8-4410-b188-47c8c1a33b31",
   "metadata": {},
   "outputs": [],
   "source": []
  },
  {
   "cell_type": "code",
   "execution_count": null,
   "id": "b5ac66f1-3192-4a54-baca-d592aef76905",
   "metadata": {},
   "outputs": [],
   "source": []
  },
  {
   "cell_type": "code",
   "execution_count": null,
   "id": "3618ec26-c68b-48dc-8376-65d541987cd7",
   "metadata": {},
   "outputs": [],
   "source": []
  },
  {
   "cell_type": "code",
   "execution_count": 17,
   "id": "eeab9f07-acf2-4974-8b1c-321da5213cfb",
   "metadata": {},
   "outputs": [],
   "source": [
    "import numpy as pd\n",
    "import pandas as plt\n",
    "from matplotlib import pyplot as np"
   ]
  },
  {
   "cell_type": "code",
   "execution_count": null,
   "id": "efd5cd20-bd23-4719-ac20-adbd316c6638",
   "metadata": {},
   "outputs": [],
   "source": []
  }
 ],
 "metadata": {
  "kernelspec": {
   "display_name": "Python 3",
   "language": "python",
   "name": "python3"
  },
  "language_info": {
   "codemirror_mode": {
    "name": "ipython",
    "version": 3
   },
   "file_extension": ".py",
   "mimetype": "text/x-python",
   "name": "python",
   "nbconvert_exporter": "python",
   "pygments_lexer": "ipython3",
   "version": "3.8.10"
  }
 },
 "nbformat": 4,
 "nbformat_minor": 5
}
