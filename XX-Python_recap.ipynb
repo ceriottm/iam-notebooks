{
 "cells": [
  {
   "cell_type": "code",
   "execution_count": 1,
   "id": "6a5f5953-7eed-44ee-b030-a0f3ce6091c4",
   "metadata": {},
   "outputs": [
    {
     "data": {
      "text/html": [
       "<style>.scwidget-button{\n",
       "    border :  3px solid;\n",
       "    border-color: #f4f2f0;\n",
       "    background-color: #f4f2f0;\n",
       "    height: auto;\n",
       "}\n",
       ".scwidget-button--out-of-date{\n",
       "    border-color: #e95420;\n",
       "}\n",
       ".scwidget-button--unchecked{\n",
       "    border-color: #20b5e9;\n",
       "}\n",
       "\n",
       ".scwidget-box{\n",
       "    border : 1px solid;\n",
       "    border-color: #f4f2f0;\n",
       "    background-color: #f4f2f0;\n",
       "}\n",
       ".scwidget-box--out-of-date{\n",
       "    border-color: #e95420;\n",
       "    background-color: #e95420;\n",
       "}\n",
       ".scwidget-box--unchecked{\n",
       "    border-color: #20b5e9;\n",
       "    background-color: #20b5e9;\n",
       "}\n",
       ".scwidget-visualizer{\n",
       "    opacity: 1.0;\n",
       "}\n",
       ".scwidget-visualizer--out-of-date{\n",
       "    opacity: 0.4;\n",
       "}\n",
       "\n",
       ".scwidget-loading-image{\n",
       "    opacity: 0.0;\n",
       "}\n",
       ".scwidget-loading-image--updating{\n",
       "    opacity: 1.0;\n",
       "}\n",
       ".scwidget-loading-image--checking{\n",
       "    opacity: 1.0;\n",
       "}\n",
       "</style>"
      ],
      "text/plain": [
       "<IPython.core.display.HTML object>"
      ]
     },
     "metadata": {},
     "output_type": "display_data"
    }
   ],
   "source": [
    "%load_ext autoreload\n",
    "%autoreload 2\n",
    "\n",
    "%matplotlib widget\n",
    "import numpy as np\n",
    "import scipy as sp\n",
    "import matplotlib as mpl\n",
    "import matplotlib.pyplot as plt\n",
    "\n",
    "from scwidgets import (AnswerRegistry, TextareaAnswer, CodeDemo,\n",
    "                       ParametersBox, PyplotOutput, ClearedOutput,\n",
    "                       AnimationOutput,CheckRegistry)\n",
    "\n",
    "from widget_code_input import WidgetCodeInput\n",
    "from ipywidgets import Layout, Output, Textarea\n",
    "\n",
    "from ase import Atoms"
   ]
  },
  {
   "cell_type": "markdown",
   "id": "a0f2a24a-db0c-4b94-bfd8-e39693cff862",
   "metadata": {},
   "source": [
    "Before you work on this module, please input your name to create a file that will store your answers, or load an existing file if you need to continue."
   ]
  },
  {
   "cell_type": "code",
   "execution_count": 2,
   "id": "657287b8-ed8a-4147-9663-f89962b3fb45",
   "metadata": {},
   "outputs": [
    {
     "data": {
      "application/vnd.jupyter.widget-view+json": {
       "model_id": "663e4c6e041c445a9cb0f77484611c58",
       "version_major": 2,
       "version_minor": 0
      },
      "text/plain": [
       "AnswerRegistry(children=(Output(layout=Layout(height='99%', width='99%')), HBox(children=(Dropdown(description…"
      ]
     },
     "metadata": {},
     "output_type": "display_data"
    }
   ],
   "source": [
    "check_registry = CheckRegistry()  # this is needed to coordinate code checking\n",
    "answer_registry = AnswerRegistry(prefix=\"module_xx\")\n",
    "display(answer_registry)"
   ]
  },
  {
   "cell_type": "markdown",
   "id": "9ff305d5-a4cc-4d66-8db3-21c91399e2c7",
   "metadata": {},
   "source": [
    "# A brief Python re-cap"
   ]
  },
  {
   "cell_type": "markdown",
   "id": "cc016389-0ebe-403d-a1c0-f90b5522874c",
   "metadata": {},
   "source": [
    "This course assumes basic knowledge of the Python language (variables, conditionals, lists, function definitions...). If you are not familiar with these concepts, or with the syntax that is used to manipulate them in Python, you should follow some online crash-course, e.g. **XXXXX give some links**.\n",
    "\n",
    "In this module we focus on three concepts that some may not be familiar with, and that are used heavily in this class.\n",
    "\n",
    "* Modules, and how to import functionalities from external packages\n",
    "* Python objects: variables and methods, from a user perspective\n",
    "* Numpy arrays: numerical lists for maths, indexing and operations"
   ]
  },
  {
   "cell_type": "markdown",
   "id": "c9b7426b-1c77-4c18-b5ff-18d4a340ec0b",
   "metadata": {},
   "source": [
    "# Extending Python through modules"
   ]
  },
  {
   "cell_type": "markdown",
   "id": "d9fde43a-bd03-4278-9468-d6031032cae3",
   "metadata": {},
   "source": [
    "One of the features that made Python so successful is how easy it is to extend its capabilities by including external libraries into a program.  \n",
    "\n",
    "<p style=\"text-align:center\">\n",
    "<img src=\"./figures/xkcd-python.png\"/><br>\n",
    "    <a href=\"https://xkcd.com/353/\">Reproduced from xkcd.com</a>\n",
    "    Licensed under <a href=\"https://creativecommons.org/licenses/by-nc/2.5/\">CC-BY-NC-2.5</a>\n",
    "</p>\n",
    "\n",
    "There are several ways to include features from external packages, and it is important to understand what are the implications for _using_ those features. For example, let's consider the sine function `sin`. Python does not have built-in trigonometric functions, so we need to import them from and external library that implements the sine function, for example the `math` package.\n",
    "\n",
    "The simplest way to include functionality from a package is to import the whole library, using the syntax \n",
    "```python \n",
    "import library as alias\n",
    "``` \n",
    "The `as alias` part is optional and allows to provide a shorthand for when a library is used a lot or has a very long name. In order to access the functions provided by `library`, it is then necessary to specify the `alias`, too, e.g. `alias.function(1)`. If `alias` is not given, one simply uses `library.function(1)`. This is because the functions are not brought into the main namespace, but remain part of the library. For example,\n",
    "\n",
    "```python\n",
    "import math\n",
    "print(math.sin(1.0))\n",
    "```"
   ]
  },
  {
   "cell_type": "markdown",
   "id": "92fc12dc-7e12-4fd0-92ae-83db922255df",
   "metadata": {},
   "source": [
    "It is also possible to import just a few selected functions, and bring them into the main namespace. This is useful when only a few of the functionalities offered by `library` need to be used a lot. The syntax is then `from library import function`, for example\n",
    "```python\n",
    "from math import sin\n",
    "print(sin(1.0))\n",
    "```\n",
    "It is also prossible to bring in _all_ functions from library into the main namespace using `from library import *`, but this is discoruaged, as it increases the risk of having clashes between the names of functions imported from different packages. "
   ]
  },
  {
   "cell_type": "code",
   "execution_count": 38,
   "id": "398efb95-7afa-4681-923b-caaaa59a06ef",
   "metadata": {},
   "outputs": [],
   "source": [
    "# initialize a widget for code input\n",
    "ex01_wci = WidgetCodeInput(\n",
    "        function_name = \"sin_cos\", \n",
    "        function_parameters=\"x\",\n",
    "        code_theme = \"default\",\n",
    "        docstring=\"\"\"\n",
    "Computes the sine and the cosine of an input value, and return both as a tuple\n",
    "\n",
    ":param x: the input angle, in radians\n",
    "\n",
    ":return: sin(x), cos(x)\n",
    "\"\"\",\n",
    "            function_body=\"\"\"\n",
    "# write code to import the sine and cosine function from the `math` module\n",
    "\n",
    "\n",
    "# compute sine and cosine\n",
    "s = 0\n",
    "c = 1\n",
    "\n",
    "return s, c\n",
    "\"\"\"\n",
    ")\n",
    "\n",
    "# initialize a CodeDemo object and initialize its checks in the check_registry:\n",
    "ex01_demo = CodeDemo( \n",
    "            code_input = ex01_wci,\n",
    "            check_registry = check_registry,\n",
    "            ) \n",
    "\n",
    "check_registry.add_check(ex01_demo,\n",
    "                         inputs_parameters=[{\"x\" : 0}, {\"x\":np.pi}, {\"x\": 0.12345} ],\n",
    "                         reference_outputs=[(0.0, 1.0), (0, -1.0), (0.12313667785133202, 0.9923897211114882)],\n",
    "                         equal=np.allclose)\n",
    "# Registers the answer\n",
    "answer_registry.register_answer_widget(\"ex01_function\", ex01_demo)"
   ]
  },
  {
   "cell_type": "code",
   "execution_count": 39,
   "id": "f15a5a7f-4a55-44c9-88ef-6a79087ac08d",
   "metadata": {},
   "outputs": [
    {
     "name": "stdout",
     "output_type": "stream",
     "text": [
      "Check 0:\n",
      "[(0, 1), (0, 1), (0, 1)]\n"
     ]
    }
   ],
   "source": [
    "# helper function to generate values for checking the function\n",
    "check_registry.print_reference_outputs(ex01_demo)"
   ]
  },
  {
   "cell_type": "markdown",
   "id": "564172be-caac-4a55-ac49-5941d42f14a9",
   "metadata": {},
   "source": [
    "<span style=\"color:blue\"> **01** Write a function that imports the sine and cosine functions from the `math` library, and returns simultaneously sine and cosine of the argument. </span>\n",
    "\n",
    "_NB: it is possible to import python packages also within the body of a function. You can try different ways of importing the functions._"
   ]
  },
  {
   "cell_type": "code",
   "execution_count": 41,
   "id": "8d827bb3-5fb3-4a98-872e-9afc18c2f279",
   "metadata": {},
   "outputs": [
    {
     "data": {
      "application/vnd.jupyter.widget-view+json": {
       "model_id": "486df77ab90a4c3aae15398f205224e4",
       "version_major": 2,
       "version_minor": 0
      },
      "text/plain": [
       "CodeDemo(children=(HBox(children=(CodeDemoBox(_dom_classes=('scwidget-box', 'scwidget-box--unchecked')), VBox(…"
      ]
     },
     "metadata": {},
     "output_type": "display_data"
    }
   ],
   "source": [
    "display(ex01_demo)"
   ]
  },
  {
   "cell_type": "markdown",
   "id": "f9a1d38f-febd-417d-9712-a1fcefec1d9e",
   "metadata": {},
   "source": [
    "# Python objects, from a user perspective\n",
    "\n",
    "This section provides an operative guide to _using_ Python classes, assuming no formal training in object-oriented programming. If you want to learn more (e.g. if you want to see how you can define your own objects) you can follow some online tutorials, e.g. **add a few links here**.\n",
    "\n",
    "An object - in Python and elsewhere - is a code construct that holds both data (_member variables_) and functionality (_methods_). Combining data and code makes it possible to conceptualize the relationship between the attributes of an item, and the operations that can be performed with (or on) it, and is usually thought to lead to code that is clearer, easier to understand and maintain. Objects in Python can be used like any other variable - passed as arguments to a function, and returned as the output of a function call. "
   ]
  },
  {
   "cell_type": "markdown",
   "id": "e87bca30-127b-4814-a831-82ad556b6000",
   "metadata": {},
   "source": [
    "Consider for example an object which is meant to represent a triangle. The geometry of a triangle can be entirely defined by its three sides, so we can combine in the same structure three floating point numbers describing the sides, `a, b, c`.  It would make sense to ask to compute the area of the triangle, or to scale it by a constant factor. A typical use case would be as follows\n",
    "\n",
    "```python\n",
    "my_triangle = Triangle(a=3.0, b=4.0, c=5.0)\n",
    "print(f\"The triangle has sides a={my_triangle.a}, b={my_triangle.b}, c={my_triangle.c}\")\n",
    "print(f\"The area of the triangle is {my_triangle.area()}\")\n",
    "print(f\"Now scaling the triangle...\")\n",
    "my_triangle.scale(factor=2.0)\n",
    "print(f\"The triangle has sides a={my_triangle.a}, b={my_triangle.b}, c={my_triangle.c}\")\n",
    "print(f\"The area of the triangle is {my_triangle.area()}\")\n",
    "```"
   ]
  },
  {
   "cell_type": "markdown",
   "id": "a2187ccf-f2c1-4833-b189-d2f293c93d25",
   "metadata": {},
   "source": [
    "## Initialization"
   ]
  },
  {
   "cell_type": "markdown",
   "id": "089026e1-27a1-4b02-83b8-92d481ec9904",
   "metadata": {},
   "source": [
    "Let's look at this code in some more detail. The first line corresponds to the _initialization_ of the `Triangle` object. `Triangle` is the name of the _class_ that defines the object (usually this will have been imported by a library), and by calling it with tree arguments, corresponding to the length of the triangle sides, we create an _instance_ of a triangle with the desired values. One can create many instances of a class, and each can be manipulated independently\n",
    "\n",
    "```python\n",
    "triangle_one = Triangle(a=3.0, b=4.0, c=2.0)\n",
    "triangle_two = Triangle(a=2.0, b=2.0, c=4.0)\n",
    "```\n",
    "\n",
    "Once an instance of a class is created, it is possible to interact with it in many ways. One can retrieve the values of the member variables, or directly set their values\n",
    "\n",
    "```python\n",
    "print(f\"The triangle has sides a={triangle_one.a}, b={triangle_one.b}, c={triangle_one.c}\")\n",
    "triangle_one.c = 5.0\n",
    "triangle_two.c = 2.0\n",
    "```\n"
   ]
  },
  {
   "cell_type": "code",
   "execution_count": 25,
   "id": "546b60a5-93b1-45d4-ad03-cf4754eac745",
   "metadata": {},
   "outputs": [],
   "source": [
    "import math\n",
    "class Triangle:\n",
    "    def __init__(self, a, b, c):\n",
    "        self.a, self.b, self.c = a, b, c\n",
    "    \n",
    "    def area(self):\n",
    "        s = (self.a+self.b+self.c)/2       \n",
    "        return math.sqrt(s*(s-self.a)*(s-self.b)*(s-self.c))\n",
    "    \n",
    "    def scale(self, factor):\n",
    "        self.a*=factor; self.b*=factor; self.c*=factor; \n",
    "# ugly but necessary to make Triangle available in the CodeInput \n",
    "import builtins\n",
    "builtins.Triangle = Triangle"
   ]
  },
  {
   "cell_type": "code",
   "execution_count": 43,
   "id": "0e0587cc-9a25-4de2-9931-0417f0436956",
   "metadata": {},
   "outputs": [],
   "source": [
    "# initialize a widget for code input\n",
    "ex02_wci = WidgetCodeInput(\n",
    "        function_name = \"equilateral_triangle\", \n",
    "        function_parameters=\"side\",\n",
    "        code_theme = \"default\",\n",
    "        docstring=\"\"\"\n",
    "Creates an equilateral triangle given its side\n",
    "\n",
    ":param side: The side of the triangle\n",
    "\n",
    ":return: An equilateral `Triangle` object\n",
    "\"\"\",\n",
    "            function_body=\"\"\"\n",
    "# NB: the Triangle class is not a builtin object and is only available here for this specific exercise\n",
    "\n",
    "# Create ai instance of a Triangle and return it\n",
    "my_triangle = 0\n",
    "\n",
    "return my_triangle\n",
    "\"\"\"\n",
    ")\n",
    "\n",
    "# initialize a CodeDemo object and initialize its checks in the check_registry:\n",
    "ex02_demo = CodeDemo( \n",
    "            code_input = ex02_wci,\n",
    "            check_registry = check_registry,\n",
    "            ) \n",
    "\n",
    "def ex02_asserts(output, reference):\n",
    "    assert isinstance(output, Triangle), \"The function should return a `Triangle` object\"\n",
    "    assert (output.a==output.b and output.a==output.c), \"The triangle is not equilateral\"  \n",
    "    assert (output.a==reference[0]), \"The side of the triangle does not match the input\"\n",
    "\n",
    "check_registry.add_check(ex02_demo,\n",
    "                         inputs_parameters=[{\"side\" : 1}, {\"side\": 2}],\n",
    "                         fingerprint= lambda t: (t.a, t.b, t.c),\n",
    "                         reference_outputs=[(1,1,1), (2,2,2)],\n",
    "                         custom_asserts=ex02_asserts\n",
    "                         )\n",
    "\n",
    "answer_registry.register_answer_widget(\"ex02_function\", ex02_demo)"
   ]
  },
  {
   "cell_type": "code",
   "execution_count": 42,
   "id": "b2569113-10b2-42fb-bf02-7e1a3a1bbaa2",
   "metadata": {},
   "outputs": [
    {
     "name": "stdout",
     "output_type": "stream",
     "text": [
      "Check 0:\n",
      "[(1, 1, 1), (2, 2, 2)]\n"
     ]
    }
   ],
   "source": [
    "# helper function to generate values for checking the function\n",
    "check_registry.print_reference_outputs(ex02_demo)"
   ]
  },
  {
   "cell_type": "markdown",
   "id": "1a37054d-b464-460f-9371-b4b51d77ee73",
   "metadata": {},
   "source": [
    "<span style=\"color:blue\"> **02** Write a function that creates a `Triangle` object, initialized to be an equilateral triangle with three equal sides. </span>\n",
    "\n",
    "_Feel free to experiment setting and checking the values of the instance variables before converging on a correct answer. You can see the outputs by running the checks._"
   ]
  },
  {
   "cell_type": "code",
   "execution_count": 45,
   "id": "7aaf3105-ad83-446d-9343-3a116360fb48",
   "metadata": {},
   "outputs": [
    {
     "data": {
      "application/vnd.jupyter.widget-view+json": {
       "model_id": "3fd3bb43806e45569ea73ad24fcd1db3",
       "version_major": 2,
       "version_minor": 0
      },
      "text/plain": [
       "CodeDemo(children=(HBox(children=(CodeDemoBox(_dom_classes=('scwidget-box', 'scwidget-box--unchecked')), VBox(…"
      ]
     },
     "metadata": {},
     "output_type": "display_data"
    }
   ],
   "source": [
    "display(ex02_demo)"
   ]
  },
  {
   "cell_type": "markdown",
   "id": "77a57521-71a7-456c-b55c-1a880b467471",
   "metadata": {},
   "source": [
    "<span style=\"color:blue\"> **01** Write a function that imports the sine and cosine functions from the `math` library, and returns simultaneously sine and cosine of the argument. </span>\n",
    "\n",
    "_NB: it is possible to import python packages also within the body of a function. You can try different ways of importing the functions._"
   ]
  },
  {
   "cell_type": "code",
   "execution_count": 10,
   "id": "19ed858f-7ec4-4c5e-98a1-6e2d36570351",
   "metadata": {},
   "outputs": [
    {
     "name": "stdout",
     "output_type": "stream",
     "text": [
      "The triangle has sides a=3.0, b=4.0, c=5.0\n",
      "The area of the triangle is 6.0\n",
      "Now scaling the triangle...\n",
      "The triangle has sides a=6.0, b=8.0, c=10.0\n",
      "The area of the triangle is 24.0\n"
     ]
    }
   ],
   "source": [
    "my_triangle = Triangle(a=3.0, b=4.0, c=5.0)\n",
    "print(f\"The triangle has sides a={my_triangle.a}, b={my_triangle.b}, c={my_triangle.c}\")\n",
    "print(f\"The area of the triangle is {my_triangle.area()}\")\n",
    "print(f\"Now scaling the triangle...\")\n",
    "my_triangle.scale(factor=2.0)\n",
    "print(f\"The triangle has sides a={my_triangle.a}, b={my_triangle.b}, c={my_triangle.c}\")\n",
    "print(f\"The area of the triangle is {my_triangle.area()}\")"
   ]
  },
  {
   "cell_type": "code",
   "execution_count": null,
   "id": "3dbf1a30-b56e-490b-9ba2-028ed5d7dc7d",
   "metadata": {},
   "outputs": [],
   "source": []
  }
 ],
 "metadata": {
  "kernelspec": {
   "display_name": "Python 3",
   "language": "python",
   "name": "python3"
  },
  "language_info": {
   "codemirror_mode": {
    "name": "ipython",
    "version": 3
   },
   "file_extension": ".py",
   "mimetype": "text/x-python",
   "name": "python",
   "nbconvert_exporter": "python",
   "pygments_lexer": "ipython3",
   "version": "3.8.10"
  }
 },
 "nbformat": 4,
 "nbformat_minor": 5
}
