{
 "cells": [
  {
   "cell_type": "markdown",
   "id": "bd2c787b",
   "metadata": {},
   "source": [
    "# Introduction to atomistic modeling - noto configuration"
   ]
  },
  {
   "cell_type": "markdown",
   "id": "8e73e5e0",
   "metadata": {},
   "source": [
    "This notebook is just to set up the environment so you can run the notebooks properly"
   ]
  },
  {
   "cell_type": "code",
   "execution_count": null,
   "id": "13baca9e",
   "metadata": {},
   "outputs": [],
   "source": [
    "# widgets only work currently with the classic notebook view. execute this cell to set up the environment\n",
    "!sed -i 's/NOTO_INTERFACE=labhub/NOTO_INTERFACE=notebook/g' /home/jnb.conf"
   ]
  },
  {
   "cell_type": "markdown",
   "id": "12038364",
   "metadata": {},
   "source": [
    "You may need to execute this cell to set up some applets"
   ]
  },
  {
   "cell_type": "code",
   "execution_count": null,
   "id": "73d8ba08",
   "metadata": {},
   "outputs": [],
   "source": [
    "# for appmode\n",
    "!jupyter nbextension     enable --py appmode\n",
    "!jupyter serverextension enable --py appmode\n",
    "# for code input widgets\n",
    "!jupyter nbextension enable --py widget_code_input\n",
    "# now logout and login to be able to run the notebooks"
   ]
  },
  {
   "cell_type": "markdown",
   "id": "ab9a40bc",
   "metadata": {},
   "source": [
    "This reverts the configuration back to use the jupyterlab interface"
   ]
  },
  {
   "cell_type": "code",
   "execution_count": null,
   "id": "de1512ea",
   "metadata": {},
   "outputs": [],
   "source": [
    "!sed -i 's/NOTO_INTERFACE=notebook/NOTO_INTERFACE=labhub/g' /home/jnb.conf"
   ]
  }
 ],
 "metadata": {
  "kernelspec": {
   "display_name": "Python 3",
   "language": "python",
   "name": "python3"
  },
  "language_info": {
   "codemirror_mode": {
    "name": "ipython",
    "version": 3
   },
   "file_extension": ".py",
   "mimetype": "text/x-python",
   "name": "python",
   "nbconvert_exporter": "python",
   "pygments_lexer": "ipython3",
   "version": "3.8.10"
  },
  "toc": {
   "base_numbering": 1,
   "nav_menu": {},
   "number_sections": true,
   "sideBar": true,
   "skip_h1_title": false,
   "title_cell": "Table of Contents",
   "title_sidebar": "Contents",
   "toc_cell": false,
   "toc_position": {},
   "toc_section_display": true,
   "toc_window_display": false
  }
 },
 "nbformat": 4,
 "nbformat_minor": 5
}
